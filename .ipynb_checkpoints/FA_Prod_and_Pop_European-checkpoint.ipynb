{
 "cells": [
  {
   "cell_type": "code",
   "execution_count": 1,
   "id": "79eceaeb",
   "metadata": {},
   "outputs": [],
   "source": [
    "# Importing the libraries\n",
    "\n",
    "import pandas as pd\n",
    "import numpy as np\n",
    "import math as mt\n",
    "import seaborn as sns #visualisation\n",
    "import matplotlib.pyplot as plt # visualisation\n",
    "plt.style.use(\"seaborn-whitegrid\")\n",
    "import warnings            \n",
    "warnings.filterwarnings(\"ignore\") # We can suppress the warnings\n",
    "#calculation\n",
    "import statistics as stats \n",
    "from statsmodels.stats import weightstats\n",
    "import scipy.stats as pystats \n",
    "import statsmodels.api as sm\n",
    "from statsmodels.formula.api import ols\n",
    "import scipy as scipy\n"
   ]
  },
  {
   "cell_type": "code",
   "execution_count": 2,
   "id": "707b04a3",
   "metadata": {},
   "outputs": [],
   "source": [
    "# Importing the dataset Production\n",
    "\n",
    "df1 =pd.read_csv(\"1.Barley.csv\")\n",
    "df2 =pd.read_csv(\"2.Meat_Cattle.csv\")\n",
    "df3 =pd.read_csv(\"3.Meat_Pig.csv\")\n",
    "df4 =pd.read_csv(\"4.Raw_Milk.csv\")\n"
   ]
  },
  {
   "cell_type": "code",
   "execution_count": 3,
   "id": "f82d70c6",
   "metadata": {},
   "outputs": [],
   "source": [
    "# change names on datasets\n",
    "\n",
    "df1 = df1.rename(columns = {\"Value\":\"Barley\"})\n",
    "df2 = df2.rename(columns = {\"Value\":\"Meat Cattle\"})\n",
    "df3 = df3.rename(columns = {\"Value\":\"Meat Pig\"})\n",
    "df4 = df4.rename(columns = {\"Value\":\"Raw Milk\"})\n"
   ]
  },
  {
   "cell_type": "code",
   "execution_count": 4,
   "id": "2b0d12b9",
   "metadata": {},
   "outputs": [],
   "source": [
    "#Created a join tables\n",
    "df_m1 = pd.merge(df1,df2, how='inner', on=[\"Area\",\"Year\"],suffixes=(\"_df1\", \"_df2\"))\n",
    "df_m2 = pd.merge(df3,df4, how='inner', on=[\"Area\",\"Year\"],suffixes=(\"_df3\", \"_df4\"))\n",
    "df_prod = pd.merge(df_m1,df_m2, how='inner', on=[\"Area\",\"Year\"])"
   ]
  },
  {
   "cell_type": "code",
   "execution_count": 5,
   "id": "ac7c2c2a",
   "metadata": {},
   "outputs": [
    {
     "name": "stdout",
     "output_type": "stream",
     "text": [
      "      Area  Year  Barley  Meat Cattle  Meat Pig  Raw Milk\n",
      "0  Austria  2015  109982       975437    844993   1322196\n",
      "1  Austria  2016   97002       944660    854356   1256018\n",
      "2  Austria  2017  102480       991803    953570   1564446\n",
      "3  Austria  2018  111802      1069738    902580   1823111\n",
      "4  Austria  2019  114030       958769    994757   1566252\n"
     ]
    }
   ],
   "source": [
    "# Clean the dataset, deleting useless columns for ou analyse\n",
    "\n",
    "df_prod.drop([\"Domain_Code_df1\",\"Domain_Code_df2\",\"Domain_Code_df3\",\"Domain_Code_df4\"], axis=1, inplace=True)\n",
    "df_prod.drop([\"Domain_df1\",\"Domain_df2\",\"Domain_df3\",\"Domain_df4\"], axis=1, inplace=True)\n",
    "df_prod.drop([\"Area_Code_(M49)_df1\",\"Area_Code_(M49)_df2\",\"Area_Code_(M49)_df3\",\"Area_Code_(M49)_df4\"], axis=1, inplace=True)\n",
    "df_prod.drop([\"Element_Code_df1\",\"Element_Code_df2\",\"Element_Code_df3\",\"Element_Code_df4\"], axis=1, inplace=True)\n",
    "df_prod.drop([\"Element_df1\",\"Element_df2\",\"Element_df3\",\"Element_df4\"], axis=1, inplace=True)\n",
    "df_prod.drop([\"Item_Code_(CPC)_df1\",\"Item_Code_(CPC)_df2\",\"Item_Code_(CPC)_df3\",\"Item_Code_(CPC)_df4\"], axis=1, inplace=True)\n",
    "df_prod.drop([\"Item_df1\",\"Item_df2\",\"Item_df3\",\"Item_df4\"], axis=1, inplace=True)\n",
    "df_prod.drop([\"Year_Code_df1\",\"Year_Code_df2\",\"Year_Code_df3\",\"Year_Code_df4\"], axis=1, inplace=True)\n",
    "df_prod.drop([\"Unit_df1\",\"Unit_df2\",\"Unit_df3\",\"Unit_df4\"], axis=1, inplace=True)\n",
    "df_prod.drop([\"Flag_df1\",\"Flag_df2\",\"Flag_df3\",\"Flag_df4\"], axis=1, inplace=True)\n",
    "df_prod.drop([\"Flag_Description_df1\",\"Flag_Description_df2\",\"Flag_Description_df3\",\"Flag_Description_df4\"], axis=1, inplace=True)\n",
    "\n",
    "# Prints out the first few rows\n",
    "print(df_prod.head())"
   ]
  },
  {
   "cell_type": "code",
   "execution_count": 6,
   "id": "910e72fc",
   "metadata": {},
   "outputs": [],
   "source": [
    "#Save new data frame as extension.CSV\n",
    "#df_prod.to_csv(\"Consolidated Production.csv\")"
   ]
  },
  {
   "cell_type": "code",
   "execution_count": 7,
   "id": "0a8b18d0",
   "metadata": {},
   "outputs": [],
   "source": [
    "# Importing the dataset Price\n",
    "# csv created on Jupyter notebook: Population_Europena.ipynb\n",
    "df_pop =pd.read_csv(\"Consolidated Population.csv\")"
   ]
  },
  {
   "cell_type": "code",
   "execution_count": 8,
   "id": "9aea431f",
   "metadata": {},
   "outputs": [],
   "source": [
    "#Removed the column \"Unnamed\"\n",
    "df_pop = df_pop.loc[:, ~df_pop.columns.str.contains('^Unnamed')]"
   ]
  },
  {
   "cell_type": "code",
   "execution_count": 9,
   "id": "e0a3a224",
   "metadata": {},
   "outputs": [
    {
     "data": {
      "text/html": [
       "<div>\n",
       "<style scoped>\n",
       "    .dataframe tbody tr th:only-of-type {\n",
       "        vertical-align: middle;\n",
       "    }\n",
       "\n",
       "    .dataframe tbody tr th {\n",
       "        vertical-align: top;\n",
       "    }\n",
       "\n",
       "    .dataframe thead th {\n",
       "        text-align: right;\n",
       "    }\n",
       "</style>\n",
       "<table border=\"1\" class=\"dataframe\">\n",
       "  <thead>\n",
       "    <tr style=\"text-align: right;\">\n",
       "      <th></th>\n",
       "      <th>Area</th>\n",
       "      <th>Year</th>\n",
       "      <th>Female_K</th>\n",
       "      <th>Male_K</th>\n",
       "      <th>Rural_K</th>\n",
       "      <th>Urban_K</th>\n",
       "    </tr>\n",
       "  </thead>\n",
       "  <tbody>\n",
       "    <tr>\n",
       "      <th>0</th>\n",
       "      <td>Austria</td>\n",
       "      <td>2015</td>\n",
       "      <td>4406.012</td>\n",
       "      <td>4236.408</td>\n",
       "      <td>3669.727</td>\n",
       "      <td>5008.930</td>\n",
       "    </tr>\n",
       "    <tr>\n",
       "      <th>1</th>\n",
       "      <td>Austria</td>\n",
       "      <td>2016</td>\n",
       "      <td>4444.016</td>\n",
       "      <td>4292.470</td>\n",
       "      <td>3667.377</td>\n",
       "      <td>5044.760</td>\n",
       "    </tr>\n",
       "    <tr>\n",
       "      <th>2</th>\n",
       "      <td>Austria</td>\n",
       "      <td>2017</td>\n",
       "      <td>4472.011</td>\n",
       "      <td>4325.485</td>\n",
       "      <td>3660.707</td>\n",
       "      <td>5074.746</td>\n",
       "    </tr>\n",
       "    <tr>\n",
       "      <th>3</th>\n",
       "      <td>Austria</td>\n",
       "      <td>2018</td>\n",
       "      <td>4492.710</td>\n",
       "      <td>4347.802</td>\n",
       "      <td>3649.748</td>\n",
       "      <td>5102.072</td>\n",
       "    </tr>\n",
       "    <tr>\n",
       "      <th>4</th>\n",
       "      <td>Austria</td>\n",
       "      <td>2019</td>\n",
       "      <td>4511.992</td>\n",
       "      <td>4367.948</td>\n",
       "      <td>3636.627</td>\n",
       "      <td>5129.574</td>\n",
       "    </tr>\n",
       "    <tr>\n",
       "      <th>...</th>\n",
       "      <td>...</td>\n",
       "      <td>...</td>\n",
       "      <td>...</td>\n",
       "      <td>...</td>\n",
       "      <td>...</td>\n",
       "      <td>...</td>\n",
       "    </tr>\n",
       "    <tr>\n",
       "      <th>157</th>\n",
       "      <td>Sweden</td>\n",
       "      <td>2016</td>\n",
       "      <td>4964.310</td>\n",
       "      <td>4989.007</td>\n",
       "      <td>1293.399</td>\n",
       "      <td>8544.134</td>\n",
       "    </tr>\n",
       "    <tr>\n",
       "      <th>158</th>\n",
       "      <td>Sweden</td>\n",
       "      <td>2017</td>\n",
       "      <td>5010.970</td>\n",
       "      <td>5047.220</td>\n",
       "      <td>1273.943</td>\n",
       "      <td>8636.758</td>\n",
       "    </tr>\n",
       "    <tr>\n",
       "      <th>159</th>\n",
       "      <td>Sweden</td>\n",
       "      <td>2018</td>\n",
       "      <td>5057.292</td>\n",
       "      <td>5105.006</td>\n",
       "      <td>1254.718</td>\n",
       "      <td>8727.991</td>\n",
       "    </tr>\n",
       "    <tr>\n",
       "      <th>160</th>\n",
       "      <td>Sweden</td>\n",
       "      <td>2019</td>\n",
       "      <td>5104.556</td>\n",
       "      <td>5163.366</td>\n",
       "      <td>1235.720</td>\n",
       "      <td>8817.415</td>\n",
       "    </tr>\n",
       "    <tr>\n",
       "      <th>161</th>\n",
       "      <td>Sweden</td>\n",
       "      <td>2020</td>\n",
       "      <td>5149.922</td>\n",
       "      <td>5219.047</td>\n",
       "      <td>1216.924</td>\n",
       "      <td>8904.762</td>\n",
       "    </tr>\n",
       "  </tbody>\n",
       "</table>\n",
       "<p>162 rows × 6 columns</p>\n",
       "</div>"
      ],
      "text/plain": [
       "        Area  Year  Female_K     Male_K   Rural_K   Urban_K\n",
       "0    Austria  2015   4406.012  4236.408  3669.727  5008.930\n",
       "1    Austria  2016   4444.016  4292.470  3667.377  5044.760\n",
       "2    Austria  2017   4472.011  4325.485  3660.707  5074.746\n",
       "3    Austria  2018   4492.710  4347.802  3649.748  5102.072\n",
       "4    Austria  2019   4511.992  4367.948  3636.627  5129.574\n",
       "..       ...   ...        ...       ...       ...       ...\n",
       "157   Sweden  2016   4964.310  4989.007  1293.399  8544.134\n",
       "158   Sweden  2017   5010.970  5047.220  1273.943  8636.758\n",
       "159   Sweden  2018   5057.292  5105.006  1254.718  8727.991\n",
       "160   Sweden  2019   5104.556  5163.366  1235.720  8817.415\n",
       "161   Sweden  2020   5149.922  5219.047  1216.924  8904.762\n",
       "\n",
       "[162 rows x 6 columns]"
      ]
     },
     "execution_count": 9,
     "metadata": {},
     "output_type": "execute_result"
    }
   ],
   "source": [
    "#full print\n",
    "df_pop"
   ]
  },
  {
   "cell_type": "code",
   "execution_count": 10,
   "id": "0ab27f79",
   "metadata": {},
   "outputs": [
    {
     "data": {
      "text/html": [
       "<div>\n",
       "<style scoped>\n",
       "    .dataframe tbody tr th:only-of-type {\n",
       "        vertical-align: middle;\n",
       "    }\n",
       "\n",
       "    .dataframe tbody tr th {\n",
       "        vertical-align: top;\n",
       "    }\n",
       "\n",
       "    .dataframe thead th {\n",
       "        text-align: right;\n",
       "    }\n",
       "</style>\n",
       "<table border=\"1\" class=\"dataframe\">\n",
       "  <thead>\n",
       "    <tr style=\"text-align: right;\">\n",
       "      <th></th>\n",
       "      <th>Area</th>\n",
       "      <th>Year</th>\n",
       "      <th>Barley</th>\n",
       "      <th>Meat Cattle</th>\n",
       "      <th>Meat Pig</th>\n",
       "      <th>Raw Milk</th>\n",
       "    </tr>\n",
       "  </thead>\n",
       "  <tbody>\n",
       "    <tr>\n",
       "      <th>0</th>\n",
       "      <td>Austria</td>\n",
       "      <td>2015</td>\n",
       "      <td>109982</td>\n",
       "      <td>975437</td>\n",
       "      <td>844993</td>\n",
       "      <td>1322196</td>\n",
       "    </tr>\n",
       "    <tr>\n",
       "      <th>1</th>\n",
       "      <td>Austria</td>\n",
       "      <td>2016</td>\n",
       "      <td>97002</td>\n",
       "      <td>944660</td>\n",
       "      <td>854356</td>\n",
       "      <td>1256018</td>\n",
       "    </tr>\n",
       "    <tr>\n",
       "      <th>2</th>\n",
       "      <td>Austria</td>\n",
       "      <td>2017</td>\n",
       "      <td>102480</td>\n",
       "      <td>991803</td>\n",
       "      <td>953570</td>\n",
       "      <td>1564446</td>\n",
       "    </tr>\n",
       "    <tr>\n",
       "      <th>3</th>\n",
       "      <td>Austria</td>\n",
       "      <td>2018</td>\n",
       "      <td>111802</td>\n",
       "      <td>1069738</td>\n",
       "      <td>902580</td>\n",
       "      <td>1823111</td>\n",
       "    </tr>\n",
       "    <tr>\n",
       "      <th>4</th>\n",
       "      <td>Austria</td>\n",
       "      <td>2019</td>\n",
       "      <td>114030</td>\n",
       "      <td>958769</td>\n",
       "      <td>994757</td>\n",
       "      <td>1566252</td>\n",
       "    </tr>\n",
       "    <tr>\n",
       "      <th>...</th>\n",
       "      <td>...</td>\n",
       "      <td>...</td>\n",
       "      <td>...</td>\n",
       "      <td>...</td>\n",
       "      <td>...</td>\n",
       "      <td>...</td>\n",
       "    </tr>\n",
       "    <tr>\n",
       "      <th>117</th>\n",
       "      <td>Sweden</td>\n",
       "      <td>2016</td>\n",
       "      <td>210560</td>\n",
       "      <td>361123</td>\n",
       "      <td>408312</td>\n",
       "      <td>1031884</td>\n",
       "    </tr>\n",
       "    <tr>\n",
       "      <th>118</th>\n",
       "      <td>Sweden</td>\n",
       "      <td>2017</td>\n",
       "      <td>259179</td>\n",
       "      <td>365048</td>\n",
       "      <td>411678</td>\n",
       "      <td>1263871</td>\n",
       "    </tr>\n",
       "    <tr>\n",
       "      <th>119</th>\n",
       "      <td>Sweden</td>\n",
       "      <td>2018</td>\n",
       "      <td>245885</td>\n",
       "      <td>351124</td>\n",
       "      <td>400078</td>\n",
       "      <td>1273021</td>\n",
       "    </tr>\n",
       "    <tr>\n",
       "      <th>120</th>\n",
       "      <td>Sweden</td>\n",
       "      <td>2019</td>\n",
       "      <td>223513</td>\n",
       "      <td>324760</td>\n",
       "      <td>363273</td>\n",
       "      <td>1131124</td>\n",
       "    </tr>\n",
       "    <tr>\n",
       "      <th>121</th>\n",
       "      <td>Sweden</td>\n",
       "      <td>2020</td>\n",
       "      <td>232358</td>\n",
       "      <td>332287</td>\n",
       "      <td>383257</td>\n",
       "      <td>1194857</td>\n",
       "    </tr>\n",
       "  </tbody>\n",
       "</table>\n",
       "<p>122 rows × 6 columns</p>\n",
       "</div>"
      ],
      "text/plain": [
       "        Area  Year  Barley  Meat Cattle  Meat Pig  Raw Milk\n",
       "0    Austria  2015  109982       975437    844993   1322196\n",
       "1    Austria  2016   97002       944660    854356   1256018\n",
       "2    Austria  2017  102480       991803    953570   1564446\n",
       "3    Austria  2018  111802      1069738    902580   1823111\n",
       "4    Austria  2019  114030       958769    994757   1566252\n",
       "..       ...   ...     ...          ...       ...       ...\n",
       "117   Sweden  2016  210560       361123    408312   1031884\n",
       "118   Sweden  2017  259179       365048    411678   1263871\n",
       "119   Sweden  2018  245885       351124    400078   1273021\n",
       "120   Sweden  2019  223513       324760    363273   1131124\n",
       "121   Sweden  2020  232358       332287    383257   1194857\n",
       "\n",
       "[122 rows x 6 columns]"
      ]
     },
     "execution_count": 10,
     "metadata": {},
     "output_type": "execute_result"
    }
   ],
   "source": [
    "df_prod"
   ]
  },
  {
   "cell_type": "markdown",
   "id": "f9d540d5",
   "metadata": {},
   "source": [
    "# T-Test, one population"
   ]
  },
  {
   "cell_type": "markdown",
   "id": "fb3cf529",
   "metadata": {},
   "source": [
    "We are analyzing population applied for \"Rural\" from ireland compared to other european union countries in average 4202k between 2015 to 2020.\n"
   ]
  },
  {
   "cell_type": "code",
   "execution_count": 11,
   "id": "d0d8fb88",
   "metadata": {},
   "outputs": [
    {
     "data": {
      "text/plain": [
       "0      3669.727\n",
       "1      3667.377\n",
       "2      3660.707\n",
       "3      3649.748\n",
       "4      3636.627\n",
       "         ...   \n",
       "157    1293.399\n",
       "158    1273.943\n",
       "159    1254.718\n",
       "160    1235.720\n",
       "161    1216.924\n",
       "Name: Rural_K, Length: 162, dtype: float64"
      ]
     },
     "execution_count": 11,
     "metadata": {},
     "output_type": "execute_result"
    }
   ],
   "source": [
    "# Define the variable \n",
    "#x = Population of Rural (in thousand)\n",
    "X = df_pop[\"Rural_K\"]; X"
   ]
  },
  {
   "cell_type": "code",
   "execution_count": 12,
   "id": "7cca4227",
   "metadata": {},
   "outputs": [
    {
     "data": {
      "text/plain": [
       "Ttest_1sampResult(statistic=4.811456666061871e-05, pvalue=0.9999616696950848)"
      ]
     },
     "execution_count": 12,
     "metadata": {},
     "output_type": "execute_result"
    }
   ],
   "source": [
    "#H0 : u = 4202\n",
    "#H1 : u =! 4202\n",
    "#stats.ttest_1samp(X,mu of H0)\n",
    "pystats.ttest_1samp(X,4202)"
   ]
  },
  {
   "cell_type": "code",
   "execution_count": 13,
   "id": "2e2f9ce2",
   "metadata": {},
   "outputs": [
    {
     "data": {
      "text/plain": [
       "1.7114923604622113e-06"
      ]
     },
     "execution_count": 13,
     "metadata": {},
     "output_type": "execute_result"
    }
   ],
   "source": [
    "#H1 : u > 4202\n",
    "pystats.t.sf(4.811456666061871, 161)"
   ]
  },
  {
   "cell_type": "markdown",
   "id": "debd171f",
   "metadata": {},
   "source": [
    "We reject H0 ---> We accept H1, so there is enough evidence to say that the average of population is not 4202k in the european countries betweeen 2015 to 2020."
   ]
  },
  {
   "cell_type": "markdown",
   "id": "64dc5ed1",
   "metadata": {},
   "source": [
    "We are analyzing population applied for \"Rural_K\" from ireland compared to Creatia in average 1785.48k."
   ]
  },
  {
   "cell_type": "code",
   "execution_count": 14,
   "id": "ad55cfb9",
   "metadata": {},
   "outputs": [
    {
     "name": "stdout",
     "output_type": "stream",
     "text": [
      "       Area  Year  Female_K     Male_K   Rural_K   Urban_K\n",
      "78  Ireland  2015   2357.720  2308.039  1760.732  2939.375\n",
      "79  Ireland  2016   2381.941  2333.847  1761.090  2964.988\n",
      "80  Ireland  2017   2409.471  2362.383  1764.335  2997.322\n",
      "81  Ireland  2018   2440.194  2394.313  1769.220  3034.528\n",
      "82  Ireland  2019   2470.880  2425.139  1773.798  3073.341\n",
      "83  Ireland  2020   2495.802  2450.316  1776.656  3111.336\n"
     ]
    }
   ],
   "source": [
    "# Created new df to grouping 2 countries\n",
    "df_pop_Ttest = df_pop[(df_pop.Area == \"Ireland\") | (df_pop.Area == \"Creatia\") ]\n",
    "print(df_pop_Ttest)"
   ]
  },
  {
   "cell_type": "code",
   "execution_count": 15,
   "id": "648afa93",
   "metadata": {},
   "outputs": [
    {
     "data": {
      "text/plain": [
       "78    1760.732\n",
       "79    1761.090\n",
       "80    1764.335\n",
       "81    1769.220\n",
       "82    1773.798\n",
       "83    1776.656\n",
       "Name: Rural_K, dtype: float64"
      ]
     },
     "execution_count": 15,
     "metadata": {},
     "output_type": "execute_result"
    }
   ],
   "source": [
    "# Define the variable \n",
    "#x = Population of Rural (in thousand)\n",
    "X = df_pop_Ttest[\"Rural_K\"]; X"
   ]
  },
  {
   "cell_type": "code",
   "execution_count": 16,
   "id": "7499d4dd",
   "metadata": {},
   "outputs": [
    {
     "data": {
      "text/plain": [
       "Ttest_1sampResult(statistic=-6.36429916703271, pvalue=0.0014158755903700081)"
      ]
     },
     "execution_count": 16,
     "metadata": {},
     "output_type": "execute_result"
    }
   ],
   "source": [
    "#H0 : u = 1785.48K\n",
    "#H1 : u =! 1785.48K\n",
    "#stats.ttest_1samp(X,mu of H0)\n",
    "pystats.ttest_1samp(X,1785)"
   ]
  },
  {
   "cell_type": "code",
   "execution_count": 17,
   "id": "b7ee329e",
   "metadata": {},
   "outputs": [
    {
     "data": {
      "text/plain": [
       "0.9999999948811659"
      ]
     },
     "execution_count": 17,
     "metadata": {},
     "output_type": "execute_result"
    }
   ],
   "source": [
    "#H1 : u > 1785.48\n",
    "pystats.t.sf(-6.36429916703271, 83)"
   ]
  },
  {
   "cell_type": "markdown",
   "id": "767293ab",
   "metadata": {},
   "source": [
    "We reject H0 ---> We accept H1, so there is enough evidence to say that the average of population is 1785.48k in Ireland and Creatia betweeen 2015 to 2020."
   ]
  },
  {
   "cell_type": "markdown",
   "id": "325e9381",
   "metadata": {},
   "source": [
    "# Anova - Variable"
   ]
  },
  {
   "cell_type": "code",
   "execution_count": 18,
   "id": "a31da745",
   "metadata": {
    "scrolled": true
   },
   "outputs": [
    {
     "name": "stdout",
     "output_type": "stream",
     "text": [
      "<class 'pandas.core.frame.DataFrame'>\n",
      "RangeIndex: 162 entries, 0 to 161\n",
      "Data columns (total 8 columns):\n",
      " #   Column                  Non-Null Count  Dtype  \n",
      "---  ------                  --------------  -----  \n",
      " 0   Area                    162 non-null    object \n",
      " 1   Year                    162 non-null    int64  \n",
      " 2   Female_K                162 non-null    float64\n",
      " 3   Male_K                  162 non-null    float64\n",
      " 4   Rural_K                 162 non-null    float64\n",
      " 5   Urban_K                 162 non-null    float64\n",
      " 6   Variable_Urban_Rural_K  162 non-null    float64\n",
      " 7   Total_K                 162 non-null    float64\n",
      "dtypes: float64(6), int64(1), object(1)\n",
      "memory usage: 10.2+ KB\n"
     ]
    }
   ],
   "source": [
    "#Add new column with variable\n",
    "df_pop[\"Variable_Urban_Rural_K\"] = df_pop[\"Urban_K\"]-df_pop[\"Rural_K\"]\n",
    "\n",
    "#Add new column with Total\n",
    "df_pop[\"Total_K\"] = df_pop[\"Rural_K\"]+df_pop[\"Urban_K\"]\n",
    "\n",
    "\n",
    "#Basic information\n",
    "df_pop.info()"
   ]
  },
  {
   "cell_type": "code",
   "execution_count": 20,
   "id": "2d3f8e9b",
   "metadata": {},
   "outputs": [
    {
     "data": {
      "text/plain": [
       "<Figure size 432x288 with 0 Axes>"
      ]
     },
     "execution_count": 20,
     "metadata": {},
     "output_type": "execute_result"
    },
    {
     "data": {
      "image/png": "[encoded data removed]",
      "text/plain": [
       "<Figure size 432x288 with 1 Axes>"
      ]
     },
     "metadata": {},
     "output_type": "display_data"
    },
    {
     "data": {
      "text/plain": [
       "<Figure size 432x288 with 0 Axes>"
      ]
     },
     "metadata": {},
     "output_type": "display_data"
    }
   ],
   "source": [
    "#Normality plot. Our variable is \"Variable_Urban_Rural\"\n",
    "\n",
    "pystats.probplot(df_pop.Variable_Urban_Rural_K, plot=plt)\n",
    "plt.figure()"
   ]
  },
  {
   "cell_type": "code",
   "execution_count": 22,
   "id": "2d267bca",
   "metadata": {},
   "outputs": [
    {
     "data": {
      "text/plain": [
       "ShapiroResult(statistic=0.9757044315338135, pvalue=0.9283227920532227)"
      ]
     },
     "execution_count": 22,
     "metadata": {},
     "output_type": "execute_result"
    }
   ],
   "source": [
    "#Shapiro wilk test\n",
    "\n",
    "pystats.shapiro(df_pop.Variable_Urban_Rural_K[df_pop.Area == \"Ireland\"])"
   ]
  },
  {
   "cell_type": "code",
   "execution_count": 23,
   "id": "30aa1a1b",
   "metadata": {},
   "outputs": [
    {
     "data": {
      "text/plain": [
       "ShapiroResult(statistic=0.9807613492012024, pvalue=0.9552789926528931)"
      ]
     },
     "execution_count": 23,
     "metadata": {},
     "output_type": "execute_result"
    }
   ],
   "source": [
    "#Shapiro wilk test\n",
    "\n",
    "pystats.shapiro(df_pop.Variable_Urban_Rural_K[df_pop.Area == \"Croatia\"])"
   ]
  },
  {
   "cell_type": "code",
   "execution_count": 24,
   "id": "459286af",
   "metadata": {},
   "outputs": [
    {
     "data": {
      "text/plain": [
       "ShapiroResult(statistic=0.9838061928749084, pvalue=0.9688383340835571)"
      ]
     },
     "execution_count": 24,
     "metadata": {},
     "output_type": "execute_result"
    }
   ],
   "source": [
    "#Shapiro wilk test\n",
    "\n",
    "pystats.shapiro(df_pop.Variable_Urban_Rural_K[df_pop.Area == \"Denmark\"])"
   ]
  },
  {
   "cell_type": "code",
   "execution_count": 26,
   "id": "9384f1e0",
   "metadata": {},
   "outputs": [
    {
     "data": {
      "text/plain": [
       "ShapiroResult(statistic=0.9842236638069153, pvalue=0.9705241918563843)"
      ]
     },
     "execution_count": 26,
     "metadata": {},
     "output_type": "execute_result"
    }
   ],
   "source": [
    "#Shapiro wilk test\n",
    "\n",
    "pystats.shapiro(df_pop.Variable_Urban_Rural_K[df_pop.Area == \"Luxembourg\"])"
   ]
  },
  {
   "cell_type": "code",
   "execution_count": 27,
   "id": "e754c354",
   "metadata": {},
   "outputs": [
    {
     "data": {
      "text/plain": [
       "ShapiroResult(statistic=0.9821272492408752, pvalue=0.9616302251815796)"
      ]
     },
     "execution_count": 27,
     "metadata": {},
     "output_type": "execute_result"
    }
   ],
   "source": [
    "#Shapiro wilk test\n",
    "\n",
    "pystats.shapiro(df_pop.Variable_Urban_Rural_K[df_pop.Area == \"Malta\"])"
   ]
  },
  {
   "cell_type": "code",
   "execution_count": 28,
   "id": "49950231",
   "metadata": {},
   "outputs": [
    {
     "data": {
      "text/plain": [
       "ShapiroResult(statistic=0.9814608693122864, pvalue=0.9585848450660706)"
      ]
     },
     "execution_count": 28,
     "metadata": {},
     "output_type": "execute_result"
    }
   ],
   "source": [
    "#Shapiro wilk test\n",
    "\n",
    "pystats.shapiro(df_pop.Variable_Urban_Rural_K[df_pop.Area == \"Portugal\"])"
   ]
  },
  {
   "cell_type": "code",
   "execution_count": 29,
   "id": "fd85d7b1",
   "metadata": {},
   "outputs": [
    {
     "data": {
      "text/plain": [
       "ShapiroResult(statistic=0.9773889183998108, pvalue=0.9378669857978821)"
      ]
     },
     "execution_count": 29,
     "metadata": {},
     "output_type": "execute_result"
    }
   ],
   "source": [
    "#Shapiro wilk test\n",
    "\n",
    "pystats.shapiro(df_pop.Variable_Urban_Rural_K[df_pop.Area == \"Germany\"])"
   ]
  },
  {
   "cell_type": "code",
   "execution_count": 34,
   "id": "c4e11d69",
   "metadata": {},
   "outputs": [
    {
     "name": "stdout",
     "output_type": "stream",
     "text": [
      "           Area  Year  Female_K      Male_K    Rural_K    Urban_K  \\\n",
      "18      Croatia  2015   2196.249   2058.566   1857.290   2378.726   \n",
      "19      Croatia  2016   2177.865   2045.886   1836.858   2376.407   \n",
      "20      Croatia  2017   2159.300   2033.167   1815.373   2373.980   \n",
      "21      Croatia  2018   2140.352   2020.133   1793.077   2371.706   \n",
      "22      Croatia  2019   2122.252   2007.499   1770.247   2369.901   \n",
      "23      Croatia  2020   2103.215   1993.655   1747.114   2368.833   \n",
      "36      Denmark  2015   2858.620   2819.175    709.587   4979.108   \n",
      "37      Denmark  2016   2872.189   2834.668    705.862   5006.008   \n",
      "38      Denmark  2017   2886.493   2850.791    701.971   5031.580   \n",
      "39      Denmark  2018   2900.363   2866.323    697.769   5056.587   \n",
      "40      Denmark  2019   2914.173   2881.706    693.384   5081.840   \n",
      "41      Denmark  2020   2928.360   2897.282    688.897   5107.903   \n",
      "60      Germany  2015  41637.850  40435.376  18629.376  63078.413   \n",
      "61      Germany  2016  41741.679  40589.743  18657.193  63257.479   \n",
      "62      Germany  2017  41873.558  40750.817  18672.100  63442.124   \n",
      "63      Germany  2018  42001.866  40894.829  18671.111  63622.346   \n",
      "64      Germany  2019  42124.562  41023.579  18651.132  63787.507   \n",
      "65      Germany  2020  42213.517  41115.471  18610.145  63930.305   \n",
      "78      Ireland  2015   2357.720   2308.039   1760.732   2939.375   \n",
      "79      Ireland  2016   2381.941   2333.847   1761.090   2964.988   \n",
      "80      Ireland  2017   2409.471   2362.383   1764.335   2997.322   \n",
      "81      Ireland  2018   2440.194   2394.313   1769.220   3034.528   \n",
      "82      Ireland  2019   2470.880   2425.139   1773.798   3073.341   \n",
      "83      Ireland  2020   2495.802   2450.316   1776.656   3111.336   \n",
      "102  Luxembourg  2015    283.856    285.552     55.660    511.081   \n",
      "103  Luxembourg  2016    290.447    292.904     54.927    520.820   \n",
      "104  Luxembourg  2017    296.690    299.592     54.103    529.352   \n",
      "105  Luxembourg  2018    302.279    305.634     53.239    537.082   \n",
      "106  Luxembourg  2019    308.142    311.831     52.396    544.596   \n",
      "107  Luxembourg  2020    313.197    317.202     51.616    552.328   \n",
      "108       Malta  2015    225.920    230.659     23.888    403.728   \n",
      "109       Malta  2016    230.237    237.468     23.701    405.661   \n",
      "110       Malta  2017    234.787    244.709     23.498    407.337   \n",
      "111       Malta  2018    239.438    252.149     23.280    408.809   \n",
      "112       Malta  2019    244.000    259.634     23.057    410.188   \n",
      "113       Malta  2020    248.447    266.911     22.830    411.533   \n",
      "126    Portugal  2015   5449.820   4915.615   3801.276   6617.197   \n",
      "127    Portugal  2016   5437.751   4895.002   3724.867   6646.760   \n",
      "128    Portugal  2017   5429.443   4878.087   3651.305   6678.201   \n",
      "129    Portugal  2018   5427.292   4862.542   3580.203   6710.993   \n",
      "130    Portugal  2019   5432.203   4857.720   3510.812   6743.854   \n",
      "131    Portugal  2020   5438.319   4859.873   3442.606   6775.807   \n",
      "\n",
      "     Variable_Urban_Rural_K    Total_K  \n",
      "18                  521.436   4236.016  \n",
      "19                  539.549   4213.265  \n",
      "20                  558.607   4189.353  \n",
      "21                  578.629   4164.783  \n",
      "22                  599.654   4140.148  \n",
      "23                  621.719   4115.947  \n",
      "36                 4269.521   5688.695  \n",
      "37                 4300.146   5711.870  \n",
      "38                 4329.609   5733.551  \n",
      "39                 4358.818   5754.356  \n",
      "40                 4388.456   5775.224  \n",
      "41                 4419.006   5796.800  \n",
      "60                44449.037  81707.789  \n",
      "61                44600.286  81914.672  \n",
      "62                44770.024  82114.224  \n",
      "63                44951.235  82293.457  \n",
      "64                45136.375  82438.639  \n",
      "65                45320.160  82540.450  \n",
      "78                 1178.643   4700.107  \n",
      "79                 1203.898   4726.078  \n",
      "80                 1232.987   4761.657  \n",
      "81                 1265.308   4803.748  \n",
      "82                 1299.543   4847.139  \n",
      "83                 1334.680   4887.992  \n",
      "102                 455.421    566.741  \n",
      "103                 465.893    575.747  \n",
      "104                 475.249    583.455  \n",
      "105                 483.843    590.321  \n",
      "106                 492.200    596.992  \n",
      "107                 500.712    603.944  \n",
      "108                 379.840    427.616  \n",
      "109                 381.960    429.362  \n",
      "110                 383.839    430.835  \n",
      "111                 385.529    432.089  \n",
      "112                 387.131    433.245  \n",
      "113                 388.703    434.363  \n",
      "126                2815.921  10418.473  \n",
      "127                2921.893  10371.627  \n",
      "128                3026.896  10329.506  \n",
      "129                3130.790  10291.196  \n",
      "130                3233.042  10254.666  \n",
      "131                3333.201  10218.413  \n"
     ]
    }
   ],
   "source": [
    "#Creat a new data frame with Ireland and some other European contries.\n",
    "df_pop_sp = df_pop[(df_pop.Area == \"Ireland\") | \n",
    "                   (df_pop.Area == \"Croatia\") |\n",
    "                   (df_pop.Area == \"Denmark\") |\n",
    "                   (df_pop.Area == \"Luxembourg\") |\n",
    "                   (df_pop.Area == \"Malta\") |\n",
    "                   (df_pop.Area == \"Portugal\") |\n",
    "                   (df_pop.Area == \"Germany\") ]\n",
    "print(df_pop_sp)"
   ]
  },
  {
   "cell_type": "code",
   "execution_count": 32,
   "id": "5a8dce93",
   "metadata": {},
   "outputs": [
    {
     "data": {
      "text/plain": [
       "Denmark       6\n",
       "Germany       6\n",
       "Ireland       6\n",
       "Luxembourg    6\n",
       "Malta         6\n",
       "Portugal      6\n",
       "Name: Area, dtype: int64"
      ]
     },
     "execution_count": 32,
     "metadata": {},
     "output_type": "execute_result"
    }
   ],
   "source": [
    "df_pop_sp[\"Area\"].value_counts()"
   ]
  },
  {
   "cell_type": "code",
   "execution_count": 47,
   "id": "a5b7dc56",
   "metadata": {},
   "outputs": [],
   "source": [
    "#organize the data by contries\n",
    "\n",
    "df_Ireland = df_pop_sp.Variable_Urban_Rural_K[df_pop_sp.Area ==\"Ireland\"]\n",
    "df_Croatia = df_pop_sp.Variable_Urban_Rural_K[df_pop_sp.Area ==\"Croatia\"]\n",
    "df_Luxembourg = df_pop_sp.Variable_Urban_Rural_K[df_pop_sp.Area ==\"Luxembourg\"]\n",
    "df_Malta = df_pop_sp.Variable_Urban_Rural_K[df_pop_sp.Area ==\"Malta\"]\n",
    "df_Portugal = df_pop_sp.Variable_Urban_Rural_K[df_pop_sp.Area ==\"Portugal\"]\n",
    "df_Germany = df_pop_sp.Variable_Urban_Rural_K[df_pop_sp.Area ==\"Germany\"]"
   ]
  },
  {
   "cell_type": "code",
   "execution_count": 48,
   "id": "c98aab17",
   "metadata": {},
   "outputs": [
    {
     "data": {
      "text/plain": [
       "58.87004086092227"
      ]
     },
     "execution_count": 48,
     "metadata": {},
     "output_type": "execute_result"
    }
   ],
   "source": [
    "sd1 = df_Ireland.std()\n",
    "sd1"
   ]
  },
  {
   "cell_type": "code",
   "execution_count": 49,
   "id": "17c21c3d",
   "metadata": {},
   "outputs": [
    {
     "data": {
      "text/plain": [
       "37.534444957487516"
      ]
     },
     "execution_count": 49,
     "metadata": {},
     "output_type": "execute_result"
    }
   ],
   "source": [
    "sd2 = df_Croatia.std()\n",
    "sd2"
   ]
  },
  {
   "cell_type": "code",
   "execution_count": 50,
   "id": "9a3113ce",
   "metadata": {},
   "outputs": [
    {
     "data": {
      "text/plain": [
       "16.797980612760153"
      ]
     },
     "execution_count": 50,
     "metadata": {},
     "output_type": "execute_result"
    }
   ],
   "source": [
    "sd3 = df_Luxembourg.std()\n",
    "sd3"
   ]
  },
  {
   "cell_type": "code",
   "execution_count": 51,
   "id": "76626068",
   "metadata": {},
   "outputs": [
    {
     "data": {
      "text/plain": [
       "3.293943877279431"
      ]
     },
     "execution_count": 51,
     "metadata": {},
     "output_type": "execute_result"
    }
   ],
   "source": [
    "sd4 = df_Malta.std()\n",
    "sd4"
   ]
  },
  {
   "cell_type": "code",
   "execution_count": 52,
   "id": "73ae6542",
   "metadata": {},
   "outputs": [
    {
     "data": {
      "text/plain": [
       "193.7071231332669"
      ]
     },
     "execution_count": 52,
     "metadata": {},
     "output_type": "execute_result"
    }
   ],
   "source": [
    "sd5 = df_Portugal.std()\n",
    "sd5"
   ]
  },
  {
   "cell_type": "code",
   "execution_count": 53,
   "id": "71fbec0d",
   "metadata": {},
   "outputs": [
    {
     "data": {
      "text/plain": [
       "328.6764485760543"
      ]
     },
     "execution_count": 53,
     "metadata": {},
     "output_type": "execute_result"
    }
   ],
   "source": [
    "sd6 = df_Germany.std()\n",
    "sd6"
   ]
  },
  {
   "cell_type": "code",
   "execution_count": 58,
   "id": "72c3994f",
   "metadata": {},
   "outputs": [],
   "source": [
    "#Homogeinity of variance: Levene's test\n",
    "\n",
    "from scipy.stats import levene"
   ]
  },
  {
   "cell_type": "code",
   "execution_count": 60,
   "id": "c225cabd",
   "metadata": {},
   "outputs": [
    {
     "ename": "TypeError",
     "evalue": "levene() got an unexpected keyword argument 'df_pop'",
     "output_type": "error",
     "traceback": [
      "\u001b[1;31m---------------------------------------------------------------------------\u001b[0m",
      "\u001b[1;31mTypeError\u001b[0m                                 Traceback (most recent call last)",
      "Input \u001b[1;32mIn [60]\u001b[0m, in \u001b[0;36m<cell line: 1>\u001b[1;34m()\u001b[0m\n\u001b[1;32m----> 1\u001b[0m \u001b[43mlevene\u001b[49m\u001b[43m(\u001b[49m\u001b[43mdf_pop\u001b[49m\u001b[43m \u001b[49m\u001b[38;5;241;43m=\u001b[39;49m\u001b[43m \u001b[49m\u001b[38;5;124;43m\"\u001b[39;49m\u001b[38;5;124;43mmean\u001b[39;49m\u001b[38;5;124;43m\"\u001b[39;49m\u001b[43m)\u001b[49m\n",
      "\u001b[1;31mTypeError\u001b[0m: levene() got an unexpected keyword argument 'df_pop'"
     ]
    }
   ],
   "source": [
    "levene(df_Ireland, df_Croatia, df_Luxembourg, df_Malta, df_Portugal, df_Germany = \"mean\")"
   ]
  },
  {
   "cell_type": "code",
   "execution_count": null,
   "id": "98df1a74",
   "metadata": {},
   "outputs": [],
   "source": []
  }
 ],
 "metadata": {
  "kernelspec": {
   "display_name": "Python 3 (ipykernel)",
   "language": "python",
   "name": "python3"
  },
  "language_info": {
   "codemirror_mode": {
    "name": "ipython",
    "version": 3
   },
   "file_extension": ".py",
   "mimetype": "text/x-python",
   "name": "python",
   "nbconvert_exporter": "python",
   "pygments_lexer": "ipython3",
   "version": "3.9.12"
  }
 },
 "nbformat": 4,
 "nbformat_minor": 5
}

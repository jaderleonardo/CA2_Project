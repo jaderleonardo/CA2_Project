{
 "cells": [
  {
   "cell_type": "code",
   "execution_count": 1,
   "id": "050d2736",
   "metadata": {},
   "outputs": [],
   "source": [
    "# Importing the libraries\n",
    "\n",
    "import pandas as pd\n",
    "import numpy as np\n",
    "import math as mt\n",
    "import seaborn as sns #visualisation\n",
    "import matplotlib.pyplot as plt # visualisation\n",
    "plt.style.use(\"seaborn-whitegrid\")\n",
    "import warnings            \n",
    "warnings.filterwarnings(\"ignore\") # We can suppress the warnings\n",
    "#calculation\n",
    "import statistics as stats \n",
    "from statsmodels.stats import weightstats\n",
    "import scipy.stats as pystats \n",
    "import statsmodels.api as sm\n",
    "from statsmodels.formula.api import ols\n",
    "import scipy as scipy\n"
   ]
  },
  {
   "cell_type": "markdown",
   "id": "138b9b5c",
   "metadata": {},
   "source": [
    "# Dataframes are composed with data from 2015 to 2020"
   ]
  },
  {
   "cell_type": "code",
   "execution_count": 2,
   "id": "fcc5e864",
   "metadata": {},
   "outputs": [],
   "source": [
    "# Importing the dataset Production\n",
    "\n",
    "df1 =pd.read_csv(\"1.Barley.csv\")\n",
    "df2 =pd.read_csv(\"2.Meat_Cattle.csv\")\n",
    "df3 =pd.read_csv(\"3.Meat_Pig.csv\")\n",
    "df4 =pd.read_csv(\"4.Raw_Milk.csv\")\n"
   ]
  },
  {
   "cell_type": "code",
   "execution_count": 3,
   "id": "5a6fd429",
   "metadata": {},
   "outputs": [],
   "source": [
    "# change names on datasets\n",
    "\n",
    "df1 = df1.rename(columns = {\"Value\":\"Barley\"})\n",
    "df2 = df2.rename(columns = {\"Value\":\"Meat Cattle\"})\n",
    "df3 = df3.rename(columns = {\"Value\":\"Meat Pig\"})\n",
    "df4 = df4.rename(columns = {\"Value\":\"Raw Milk\"})\n"
   ]
  },
  {
   "cell_type": "code",
   "execution_count": 4,
   "id": "da9f55dc",
   "metadata": {},
   "outputs": [],
   "source": [
    "#Created a join tables\n",
    "df_m1 = pd.merge(df1,df2, how='inner', on=[\"Area\",\"Year\"],suffixes=(\"_df1\", \"_df2\"))\n",
    "df_m2 = pd.merge(df3,df4, how='inner', on=[\"Area\",\"Year\"],suffixes=(\"_df3\", \"_df4\"))\n",
    "df_prod = pd.merge(df_m1,df_m2, how='inner', on=[\"Area\",\"Year\"])"
   ]
  },
  {
   "cell_type": "code",
   "execution_count": 5,
   "id": "e82b0ac1",
   "metadata": {},
   "outputs": [
    {
     "name": "stdout",
     "output_type": "stream",
     "text": [
      "      Area  Year  Barley  Meat Cattle  Meat Pig  Raw Milk\n",
      "0  Austria  2015  109982       975437    844993   1322196\n",
      "1  Austria  2016   97002       944660    854356   1256018\n",
      "2  Austria  2017  102480       991803    953570   1564446\n",
      "3  Austria  2018  111802      1069738    902580   1823111\n",
      "4  Austria  2019  114030       958769    994757   1566252\n"
     ]
    }
   ],
   "source": [
    "# Clean the dataset, deleting useless columns for ou analyse\n",
    "\n",
    "df_prod.drop([\"Domain_Code_df1\",\"Domain_Code_df2\",\"Domain_Code_df3\",\"Domain_Code_df4\"], axis=1, inplace=True)\n",
    "df_prod.drop([\"Domain_df1\",\"Domain_df2\",\"Domain_df3\",\"Domain_df4\"], axis=1, inplace=True)\n",
    "df_prod.drop([\"Area_Code_(M49)_df1\",\"Area_Code_(M49)_df2\",\"Area_Code_(M49)_df3\",\"Area_Code_(M49)_df4\"], axis=1, inplace=True)\n",
    "df_prod.drop([\"Element_Code_df1\",\"Element_Code_df2\",\"Element_Code_df3\",\"Element_Code_df4\"], axis=1, inplace=True)\n",
    "df_prod.drop([\"Element_df1\",\"Element_df2\",\"Element_df3\",\"Element_df4\"], axis=1, inplace=True)\n",
    "df_prod.drop([\"Item_Code_(CPC)_df1\",\"Item_Code_(CPC)_df2\",\"Item_Code_(CPC)_df3\",\"Item_Code_(CPC)_df4\"], axis=1, inplace=True)\n",
    "df_prod.drop([\"Item_df1\",\"Item_df2\",\"Item_df3\",\"Item_df4\"], axis=1, inplace=True)\n",
    "df_prod.drop([\"Year_Code_df1\",\"Year_Code_df2\",\"Year_Code_df3\",\"Year_Code_df4\"], axis=1, inplace=True)\n",
    "df_prod.drop([\"Unit_df1\",\"Unit_df2\",\"Unit_df3\",\"Unit_df4\"], axis=1, inplace=True)\n",
    "df_prod.drop([\"Flag_df1\",\"Flag_df2\",\"Flag_df3\",\"Flag_df4\"], axis=1, inplace=True)\n",
    "df_prod.drop([\"Flag_Description_df1\",\"Flag_Description_df2\",\"Flag_Description_df3\",\"Flag_Description_df4\"], axis=1, inplace=True)\n",
    "\n",
    "# Prints out the first few rows\n",
    "print(df_prod.head())"
   ]
  },
  {
   "cell_type": "code",
   "execution_count": 6,
   "id": "c869bab0",
   "metadata": {},
   "outputs": [],
   "source": [
    "#Save new data frame as extension.CSV\n",
    "#df_prod.to_csv(\"Consolidated Production.csv\")"
   ]
  },
  {
   "cell_type": "code",
   "execution_count": 7,
   "id": "e3f11198",
   "metadata": {},
   "outputs": [],
   "source": [
    "# Importing the dataset Price\n",
    "# csv created on Jupyter notebook: Population_Europena.ipynb\n",
    "df_pop =pd.read_csv(\"Consolidated Population.csv\")"
   ]
  },
  {
   "cell_type": "code",
   "execution_count": 8,
   "id": "ba5d243a",
   "metadata": {},
   "outputs": [],
   "source": [
    "#Removed the column \"Unnamed\"\n",
    "df_pop = df_pop.loc[:, ~df_pop.columns.str.contains('^Unnamed')]"
   ]
  },
  {
   "cell_type": "code",
   "execution_count": 9,
   "id": "ad1763b3",
   "metadata": {},
   "outputs": [
    {
     "data": {
      "text/html": [
       "<div>\n",
       "<style scoped>\n",
       "    .dataframe tbody tr th:only-of-type {\n",
       "        vertical-align: middle;\n",
       "    }\n",
       "\n",
       "    .dataframe tbody tr th {\n",
       "        vertical-align: top;\n",
       "    }\n",
       "\n",
       "    .dataframe thead th {\n",
       "        text-align: right;\n",
       "    }\n",
       "</style>\n",
       "<table border=\"1\" class=\"dataframe\">\n",
       "  <thead>\n",
       "    <tr style=\"text-align: right;\">\n",
       "      <th></th>\n",
       "      <th>Area</th>\n",
       "      <th>Year</th>\n",
       "      <th>Female_K</th>\n",
       "      <th>Male_K</th>\n",
       "      <th>Rural_K</th>\n",
       "      <th>Urban_K</th>\n",
       "    </tr>\n",
       "  </thead>\n",
       "  <tbody>\n",
       "    <tr>\n",
       "      <th>0</th>\n",
       "      <td>Austria</td>\n",
       "      <td>2015</td>\n",
       "      <td>4406.012</td>\n",
       "      <td>4236.408</td>\n",
       "      <td>3669.727</td>\n",
       "      <td>5008.930</td>\n",
       "    </tr>\n",
       "    <tr>\n",
       "      <th>1</th>\n",
       "      <td>Austria</td>\n",
       "      <td>2016</td>\n",
       "      <td>4444.016</td>\n",
       "      <td>4292.470</td>\n",
       "      <td>3667.377</td>\n",
       "      <td>5044.760</td>\n",
       "    </tr>\n",
       "    <tr>\n",
       "      <th>2</th>\n",
       "      <td>Austria</td>\n",
       "      <td>2017</td>\n",
       "      <td>4472.011</td>\n",
       "      <td>4325.485</td>\n",
       "      <td>3660.707</td>\n",
       "      <td>5074.746</td>\n",
       "    </tr>\n",
       "    <tr>\n",
       "      <th>3</th>\n",
       "      <td>Austria</td>\n",
       "      <td>2018</td>\n",
       "      <td>4492.710</td>\n",
       "      <td>4347.802</td>\n",
       "      <td>3649.748</td>\n",
       "      <td>5102.072</td>\n",
       "    </tr>\n",
       "    <tr>\n",
       "      <th>4</th>\n",
       "      <td>Austria</td>\n",
       "      <td>2019</td>\n",
       "      <td>4511.992</td>\n",
       "      <td>4367.948</td>\n",
       "      <td>3636.627</td>\n",
       "      <td>5129.574</td>\n",
       "    </tr>\n",
       "    <tr>\n",
       "      <th>...</th>\n",
       "      <td>...</td>\n",
       "      <td>...</td>\n",
       "      <td>...</td>\n",
       "      <td>...</td>\n",
       "      <td>...</td>\n",
       "      <td>...</td>\n",
       "    </tr>\n",
       "    <tr>\n",
       "      <th>157</th>\n",
       "      <td>Sweden</td>\n",
       "      <td>2016</td>\n",
       "      <td>4964.310</td>\n",
       "      <td>4989.007</td>\n",
       "      <td>1293.399</td>\n",
       "      <td>8544.134</td>\n",
       "    </tr>\n",
       "    <tr>\n",
       "      <th>158</th>\n",
       "      <td>Sweden</td>\n",
       "      <td>2017</td>\n",
       "      <td>5010.970</td>\n",
       "      <td>5047.220</td>\n",
       "      <td>1273.943</td>\n",
       "      <td>8636.758</td>\n",
       "    </tr>\n",
       "    <tr>\n",
       "      <th>159</th>\n",
       "      <td>Sweden</td>\n",
       "      <td>2018</td>\n",
       "      <td>5057.292</td>\n",
       "      <td>5105.006</td>\n",
       "      <td>1254.718</td>\n",
       "      <td>8727.991</td>\n",
       "    </tr>\n",
       "    <tr>\n",
       "      <th>160</th>\n",
       "      <td>Sweden</td>\n",
       "      <td>2019</td>\n",
       "      <td>5104.556</td>\n",
       "      <td>5163.366</td>\n",
       "      <td>1235.720</td>\n",
       "      <td>8817.415</td>\n",
       "    </tr>\n",
       "    <tr>\n",
       "      <th>161</th>\n",
       "      <td>Sweden</td>\n",
       "      <td>2020</td>\n",
       "      <td>5149.922</td>\n",
       "      <td>5219.047</td>\n",
       "      <td>1216.924</td>\n",
       "      <td>8904.762</td>\n",
       "    </tr>\n",
       "  </tbody>\n",
       "</table>\n",
       "<p>162 rows × 6 columns</p>\n",
       "</div>"
      ],
      "text/plain": [
       "        Area  Year  Female_K     Male_K   Rural_K   Urban_K\n",
       "0    Austria  2015   4406.012  4236.408  3669.727  5008.930\n",
       "1    Austria  2016   4444.016  4292.470  3667.377  5044.760\n",
       "2    Austria  2017   4472.011  4325.485  3660.707  5074.746\n",
       "3    Austria  2018   4492.710  4347.802  3649.748  5102.072\n",
       "4    Austria  2019   4511.992  4367.948  3636.627  5129.574\n",
       "..       ...   ...        ...       ...       ...       ...\n",
       "157   Sweden  2016   4964.310  4989.007  1293.399  8544.134\n",
       "158   Sweden  2017   5010.970  5047.220  1273.943  8636.758\n",
       "159   Sweden  2018   5057.292  5105.006  1254.718  8727.991\n",
       "160   Sweden  2019   5104.556  5163.366  1235.720  8817.415\n",
       "161   Sweden  2020   5149.922  5219.047  1216.924  8904.762\n",
       "\n",
       "[162 rows x 6 columns]"
      ]
     },
     "execution_count": 9,
     "metadata": {},
     "output_type": "execute_result"
    }
   ],
   "source": [
    "#full print\n",
    "df_pop"
   ]
  },
  {
   "cell_type": "code",
   "execution_count": 10,
   "id": "8d87e034",
   "metadata": {},
   "outputs": [
    {
     "data": {
      "text/html": [
       "<div>\n",
       "<style scoped>\n",
       "    .dataframe tbody tr th:only-of-type {\n",
       "        vertical-align: middle;\n",
       "    }\n",
       "\n",
       "    .dataframe tbody tr th {\n",
       "        vertical-align: top;\n",
       "    }\n",
       "\n",
       "    .dataframe thead th {\n",
       "        text-align: right;\n",
       "    }\n",
       "</style>\n",
       "<table border=\"1\" class=\"dataframe\">\n",
       "  <thead>\n",
       "    <tr style=\"text-align: right;\">\n",
       "      <th></th>\n",
       "      <th>Area</th>\n",
       "      <th>Year</th>\n",
       "      <th>Barley</th>\n",
       "      <th>Meat Cattle</th>\n",
       "      <th>Meat Pig</th>\n",
       "      <th>Raw Milk</th>\n",
       "    </tr>\n",
       "  </thead>\n",
       "  <tbody>\n",
       "    <tr>\n",
       "      <th>0</th>\n",
       "      <td>Austria</td>\n",
       "      <td>2015</td>\n",
       "      <td>109982</td>\n",
       "      <td>975437</td>\n",
       "      <td>844993</td>\n",
       "      <td>1322196</td>\n",
       "    </tr>\n",
       "    <tr>\n",
       "      <th>1</th>\n",
       "      <td>Austria</td>\n",
       "      <td>2016</td>\n",
       "      <td>97002</td>\n",
       "      <td>944660</td>\n",
       "      <td>854356</td>\n",
       "      <td>1256018</td>\n",
       "    </tr>\n",
       "    <tr>\n",
       "      <th>2</th>\n",
       "      <td>Austria</td>\n",
       "      <td>2017</td>\n",
       "      <td>102480</td>\n",
       "      <td>991803</td>\n",
       "      <td>953570</td>\n",
       "      <td>1564446</td>\n",
       "    </tr>\n",
       "    <tr>\n",
       "      <th>3</th>\n",
       "      <td>Austria</td>\n",
       "      <td>2018</td>\n",
       "      <td>111802</td>\n",
       "      <td>1069738</td>\n",
       "      <td>902580</td>\n",
       "      <td>1823111</td>\n",
       "    </tr>\n",
       "    <tr>\n",
       "      <th>4</th>\n",
       "      <td>Austria</td>\n",
       "      <td>2019</td>\n",
       "      <td>114030</td>\n",
       "      <td>958769</td>\n",
       "      <td>994757</td>\n",
       "      <td>1566252</td>\n",
       "    </tr>\n",
       "    <tr>\n",
       "      <th>...</th>\n",
       "      <td>...</td>\n",
       "      <td>...</td>\n",
       "      <td>...</td>\n",
       "      <td>...</td>\n",
       "      <td>...</td>\n",
       "      <td>...</td>\n",
       "    </tr>\n",
       "    <tr>\n",
       "      <th>117</th>\n",
       "      <td>Sweden</td>\n",
       "      <td>2016</td>\n",
       "      <td>210560</td>\n",
       "      <td>361123</td>\n",
       "      <td>408312</td>\n",
       "      <td>1031884</td>\n",
       "    </tr>\n",
       "    <tr>\n",
       "      <th>118</th>\n",
       "      <td>Sweden</td>\n",
       "      <td>2017</td>\n",
       "      <td>259179</td>\n",
       "      <td>365048</td>\n",
       "      <td>411678</td>\n",
       "      <td>1263871</td>\n",
       "    </tr>\n",
       "    <tr>\n",
       "      <th>119</th>\n",
       "      <td>Sweden</td>\n",
       "      <td>2018</td>\n",
       "      <td>245885</td>\n",
       "      <td>351124</td>\n",
       "      <td>400078</td>\n",
       "      <td>1273021</td>\n",
       "    </tr>\n",
       "    <tr>\n",
       "      <th>120</th>\n",
       "      <td>Sweden</td>\n",
       "      <td>2019</td>\n",
       "      <td>223513</td>\n",
       "      <td>324760</td>\n",
       "      <td>363273</td>\n",
       "      <td>1131124</td>\n",
       "    </tr>\n",
       "    <tr>\n",
       "      <th>121</th>\n",
       "      <td>Sweden</td>\n",
       "      <td>2020</td>\n",
       "      <td>232358</td>\n",
       "      <td>332287</td>\n",
       "      <td>383257</td>\n",
       "      <td>1194857</td>\n",
       "    </tr>\n",
       "  </tbody>\n",
       "</table>\n",
       "<p>122 rows × 6 columns</p>\n",
       "</div>"
      ],
      "text/plain": [
       "        Area  Year  Barley  Meat Cattle  Meat Pig  Raw Milk\n",
       "0    Austria  2015  109982       975437    844993   1322196\n",
       "1    Austria  2016   97002       944660    854356   1256018\n",
       "2    Austria  2017  102480       991803    953570   1564446\n",
       "3    Austria  2018  111802      1069738    902580   1823111\n",
       "4    Austria  2019  114030       958769    994757   1566252\n",
       "..       ...   ...     ...          ...       ...       ...\n",
       "117   Sweden  2016  210560       361123    408312   1031884\n",
       "118   Sweden  2017  259179       365048    411678   1263871\n",
       "119   Sweden  2018  245885       351124    400078   1273021\n",
       "120   Sweden  2019  223513       324760    363273   1131124\n",
       "121   Sweden  2020  232358       332287    383257   1194857\n",
       "\n",
       "[122 rows x 6 columns]"
      ]
     },
     "execution_count": 10,
     "metadata": {},
     "output_type": "execute_result"
    }
   ],
   "source": [
    "df_prod"
   ]
  },
  {
   "cell_type": "markdown",
   "id": "a17add5f",
   "metadata": {},
   "source": [
    "# T-Test, one population"
   ]
  },
  {
   "cell_type": "markdown",
   "id": "224c525d",
   "metadata": {},
   "source": [
    "We are analyzing population applied for \"Rural\" from ireland compared to other european union countries in average 4202k between 2015 to 2020.\n"
   ]
  },
  {
   "cell_type": "code",
   "execution_count": 11,
   "id": "79d3e8a2",
   "metadata": {},
   "outputs": [
    {
     "data": {
      "text/plain": [
       "0      3669.727\n",
       "1      3667.377\n",
       "2      3660.707\n",
       "3      3649.748\n",
       "4      3636.627\n",
       "         ...   \n",
       "157    1293.399\n",
       "158    1273.943\n",
       "159    1254.718\n",
       "160    1235.720\n",
       "161    1216.924\n",
       "Name: Rural_K, Length: 162, dtype: float64"
      ]
     },
     "execution_count": 11,
     "metadata": {},
     "output_type": "execute_result"
    }
   ],
   "source": [
    "# Define the variable \n",
    "#x = Population of Rural (in thousand)\n",
    "X = df_pop[\"Rural_K\"]; X"
   ]
  },
  {
   "cell_type": "code",
   "execution_count": 12,
   "id": "4cf9f72e",
   "metadata": {},
   "outputs": [
    {
     "data": {
      "text/plain": [
       "Ttest_1sampResult(statistic=4.811456666061871e-05, pvalue=0.9999616696950848)"
      ]
     },
     "execution_count": 12,
     "metadata": {},
     "output_type": "execute_result"
    }
   ],
   "source": [
    "#H0 : u = 4202\n",
    "#H1 : u =! 4202\n",
    "#stats.ttest_1samp(X,mu of H0)\n",
    "pystats.ttest_1samp(X,4202)"
   ]
  },
  {
   "cell_type": "code",
   "execution_count": 13,
   "id": "cc98d0f2",
   "metadata": {},
   "outputs": [
    {
     "data": {
      "text/plain": [
       "1.7114923604622113e-06"
      ]
     },
     "execution_count": 13,
     "metadata": {},
     "output_type": "execute_result"
    }
   ],
   "source": [
    "#H1 : u > 4202\n",
    "pystats.t.sf(4.811456666061871, 161)"
   ]
  },
  {
   "cell_type": "markdown",
   "id": "126a2150",
   "metadata": {},
   "source": [
    "We reject H0 ---> We accept H1, so there is enough evidence to say that the average of population is not 4202k in the european countries betweeen 2015 to 2020."
   ]
  },
  {
   "cell_type": "markdown",
   "id": "e9f101ea",
   "metadata": {},
   "source": [
    "We are analyzing population applied for \"Rural_K\" from ireland compared to Creatia in average 1785.48k."
   ]
  },
  {
   "cell_type": "code",
   "execution_count": 14,
   "id": "ecfdb902",
   "metadata": {},
   "outputs": [
    {
     "name": "stdout",
     "output_type": "stream",
     "text": [
      "       Area  Year  Female_K     Male_K   Rural_K   Urban_K\n",
      "78  Ireland  2015   2357.720  2308.039  1760.732  2939.375\n",
      "79  Ireland  2016   2381.941  2333.847  1761.090  2964.988\n",
      "80  Ireland  2017   2409.471  2362.383  1764.335  2997.322\n",
      "81  Ireland  2018   2440.194  2394.313  1769.220  3034.528\n",
      "82  Ireland  2019   2470.880  2425.139  1773.798  3073.341\n",
      "83  Ireland  2020   2495.802  2450.316  1776.656  3111.336\n"
     ]
    }
   ],
   "source": [
    "# Created new df to grouping 2 countries\n",
    "df_pop_Ttest = df_pop[(df_pop.Area == \"Ireland\") | (df_pop.Area == \"Creatia\") ]\n",
    "print(df_pop_Ttest)"
   ]
  },
  {
   "cell_type": "code",
   "execution_count": 15,
   "id": "6661dbbd",
   "metadata": {},
   "outputs": [
    {
     "data": {
      "text/plain": [
       "78    1760.732\n",
       "79    1761.090\n",
       "80    1764.335\n",
       "81    1769.220\n",
       "82    1773.798\n",
       "83    1776.656\n",
       "Name: Rural_K, dtype: float64"
      ]
     },
     "execution_count": 15,
     "metadata": {},
     "output_type": "execute_result"
    }
   ],
   "source": [
    "# Define the variable \n",
    "#x = Population of Rural (in thousand)\n",
    "X = df_pop_Ttest[\"Rural_K\"]; X"
   ]
  },
  {
   "cell_type": "code",
   "execution_count": 16,
   "id": "a1d30a5b",
   "metadata": {},
   "outputs": [
    {
     "data": {
      "text/plain": [
       "Ttest_1sampResult(statistic=-6.36429916703271, pvalue=0.0014158755903700081)"
      ]
     },
     "execution_count": 16,
     "metadata": {},
     "output_type": "execute_result"
    }
   ],
   "source": [
    "#H0 : u = 1785.48K\n",
    "#H1 : u =! 1785.48K\n",
    "#stats.ttest_1samp(X,mu of H0)\n",
    "pystats.ttest_1samp(X,1785)"
   ]
  },
  {
   "cell_type": "code",
   "execution_count": 17,
   "id": "37e74741",
   "metadata": {},
   "outputs": [
    {
     "data": {
      "text/plain": [
       "0.9999999948811659"
      ]
     },
     "execution_count": 17,
     "metadata": {},
     "output_type": "execute_result"
    }
   ],
   "source": [
    "#H1 : u > 1785.48\n",
    "pystats.t.sf(-6.36429916703271, 83)"
   ]
  },
  {
   "cell_type": "markdown",
   "id": "db9e1c51",
   "metadata": {},
   "source": [
    "We reject H0 ---> We accept H1, so there is enough evidence to say that the average of population is 1785.48k in Ireland and Creatia betweeen 2015 to 2020."
   ]
  },
  {
   "cell_type": "markdown",
   "id": "996a0cc0",
   "metadata": {},
   "source": [
    "# Anova - Variable population"
   ]
  },
  {
   "cell_type": "code",
   "execution_count": 18,
   "id": "2dfe93a2",
   "metadata": {
    "scrolled": true
   },
   "outputs": [
    {
     "name": "stdout",
     "output_type": "stream",
     "text": [
      "<class 'pandas.core.frame.DataFrame'>\n",
      "RangeIndex: 162 entries, 0 to 161\n",
      "Data columns (total 8 columns):\n",
      " #   Column                  Non-Null Count  Dtype  \n",
      "---  ------                  --------------  -----  \n",
      " 0   Area                    162 non-null    object \n",
      " 1   Year                    162 non-null    int64  \n",
      " 2   Female_K                162 non-null    float64\n",
      " 3   Male_K                  162 non-null    float64\n",
      " 4   Rural_K                 162 non-null    float64\n",
      " 5   Urban_K                 162 non-null    float64\n",
      " 6   Variable_Urban_Rural_K  162 non-null    float64\n",
      " 7   Total_K                 162 non-null    float64\n",
      "dtypes: float64(6), int64(1), object(1)\n",
      "memory usage: 10.2+ KB\n"
     ]
    }
   ],
   "source": [
    "#Add new column with variable\n",
    "df_pop[\"Variable_Urban_Rural_K\"] = df_pop[\"Urban_K\"]-df_pop[\"Rural_K\"]\n",
    "\n",
    "#Add new column with Total\n",
    "df_pop[\"Total_K\"] = df_pop[\"Rural_K\"]+df_pop[\"Urban_K\"]\n",
    "\n",
    "\n",
    "#Basic information\n",
    "df_pop.info()"
   ]
  },
  {
   "cell_type": "code",
   "execution_count": 76,
   "id": "fd99d28b",
   "metadata": {},
   "outputs": [
    {
     "data": {
      "text/plain": [
       "<Figure size 432x288 with 0 Axes>"
      ]
     },
     "execution_count": 76,
     "metadata": {},
     "output_type": "execute_result"
    },
    {
     "data": {
      "image/png": "[encoded data removed]",
      "text/plain": [
       "<Figure size 432x288 with 1 Axes>"
      ]
     },
     "metadata": {},
     "output_type": "display_data"
    },
    {
     "data": {
      "text/plain": [
       "<Figure size 432x288 with 0 Axes>"
      ]
     },
     "metadata": {},
     "output_type": "display_data"
    }
   ],
   "source": [
    "#Normality plot. Our variable is \"Variable_Urban_Rural\"\n",
    "df_pop20 = df_pop[(df_pop.Year ==2020)]\n",
    "pystats.probplot(df_pop20.Variable_Urban_Rural_K, plot=plt)\n",
    "plt.savefig(\"Normality plot1.png\")\n",
    "plt.figure()"
   ]
  },
  {
   "cell_type": "code",
   "execution_count": 79,
   "id": "46df9866",
   "metadata": {},
   "outputs": [
    {
     "data": {
      "text/html": [
       "<div>\n",
       "<style scoped>\n",
       "    .dataframe tbody tr th:only-of-type {\n",
       "        vertical-align: middle;\n",
       "    }\n",
       "\n",
       "    .dataframe tbody tr th {\n",
       "        vertical-align: top;\n",
       "    }\n",
       "\n",
       "    .dataframe thead th {\n",
       "        text-align: right;\n",
       "    }\n",
       "</style>\n",
       "<table border=\"1\" class=\"dataframe\">\n",
       "  <thead>\n",
       "    <tr style=\"text-align: right;\">\n",
       "      <th></th>\n",
       "      <th>Area</th>\n",
       "      <th>Year</th>\n",
       "      <th>Female_K</th>\n",
       "      <th>Male_K</th>\n",
       "      <th>Rural_K</th>\n",
       "      <th>Urban_K</th>\n",
       "      <th>Variable_Urban_Rural_K</th>\n",
       "      <th>Total_K</th>\n",
       "    </tr>\n",
       "  </thead>\n",
       "  <tbody>\n",
       "    <tr>\n",
       "      <th>5</th>\n",
       "      <td>Austria</td>\n",
       "      <td>2020</td>\n",
       "      <td>4524.926</td>\n",
       "      <td>4382.851</td>\n",
       "      <td>3622.850</td>\n",
       "      <td>5159.360</td>\n",
       "      <td>1536.510</td>\n",
       "      <td>8782.210</td>\n",
       "    </tr>\n",
       "    <tr>\n",
       "      <th>11</th>\n",
       "      <td>Belgium</td>\n",
       "      <td>2020</td>\n",
       "      <td>5854.453</td>\n",
       "      <td>5707.264</td>\n",
       "      <td>223.197</td>\n",
       "      <td>11396.775</td>\n",
       "      <td>11173.578</td>\n",
       "      <td>11619.972</td>\n",
       "    </tr>\n",
       "    <tr>\n",
       "      <th>17</th>\n",
       "      <td>Bulgaria</td>\n",
       "      <td>2020</td>\n",
       "      <td>3593.896</td>\n",
       "      <td>3385.278</td>\n",
       "      <td>1687.490</td>\n",
       "      <td>5253.037</td>\n",
       "      <td>3565.547</td>\n",
       "      <td>6940.527</td>\n",
       "    </tr>\n",
       "    <tr>\n",
       "      <th>23</th>\n",
       "      <td>Croatia</td>\n",
       "      <td>2020</td>\n",
       "      <td>2103.215</td>\n",
       "      <td>1993.655</td>\n",
       "      <td>1747.114</td>\n",
       "      <td>2368.833</td>\n",
       "      <td>621.719</td>\n",
       "      <td>4115.947</td>\n",
       "    </tr>\n",
       "    <tr>\n",
       "      <th>29</th>\n",
       "      <td>Cyprus</td>\n",
       "      <td>2020</td>\n",
       "      <td>617.605</td>\n",
       "      <td>619.932</td>\n",
       "      <td>400.589</td>\n",
       "      <td>806.754</td>\n",
       "      <td>406.165</td>\n",
       "      <td>1207.343</td>\n",
       "    </tr>\n",
       "    <tr>\n",
       "      <th>35</th>\n",
       "      <td>Czechia</td>\n",
       "      <td>2020</td>\n",
       "      <td>5343.468</td>\n",
       "      <td>5187.485</td>\n",
       "      <td>2758.156</td>\n",
       "      <td>7875.268</td>\n",
       "      <td>5117.112</td>\n",
       "      <td>10633.424</td>\n",
       "    </tr>\n",
       "    <tr>\n",
       "      <th>41</th>\n",
       "      <td>Denmark</td>\n",
       "      <td>2020</td>\n",
       "      <td>2928.360</td>\n",
       "      <td>2897.282</td>\n",
       "      <td>688.897</td>\n",
       "      <td>5107.903</td>\n",
       "      <td>4419.006</td>\n",
       "      <td>5796.800</td>\n",
       "    </tr>\n",
       "    <tr>\n",
       "      <th>47</th>\n",
       "      <td>Estonia</td>\n",
       "      <td>2020</td>\n",
       "      <td>699.604</td>\n",
       "      <td>629.841</td>\n",
       "      <td>400.194</td>\n",
       "      <td>900.365</td>\n",
       "      <td>500.171</td>\n",
       "      <td>1300.559</td>\n",
       "    </tr>\n",
       "    <tr>\n",
       "      <th>53</th>\n",
       "      <td>Finland</td>\n",
       "      <td>2020</td>\n",
       "      <td>2798.450</td>\n",
       "      <td>2731.017</td>\n",
       "      <td>808.148</td>\n",
       "      <td>4771.979</td>\n",
       "      <td>3963.831</td>\n",
       "      <td>5580.127</td>\n",
       "    </tr>\n",
       "    <tr>\n",
       "      <th>59</th>\n",
       "      <td>France</td>\n",
       "      <td>2020</td>\n",
       "      <td>33303.876</td>\n",
       "      <td>31176.177</td>\n",
       "      <td>12503.199</td>\n",
       "      <td>53217.966</td>\n",
       "      <td>40714.767</td>\n",
       "      <td>65721.165</td>\n",
       "    </tr>\n",
       "    <tr>\n",
       "      <th>65</th>\n",
       "      <td>Germany</td>\n",
       "      <td>2020</td>\n",
       "      <td>42213.517</td>\n",
       "      <td>41115.471</td>\n",
       "      <td>18610.145</td>\n",
       "      <td>63930.305</td>\n",
       "      <td>45320.160</td>\n",
       "      <td>82540.450</td>\n",
       "    </tr>\n",
       "    <tr>\n",
       "      <th>71</th>\n",
       "      <td>Greece</td>\n",
       "      <td>2020</td>\n",
       "      <td>5361.245</td>\n",
       "      <td>5150.987</td>\n",
       "      <td>2252.163</td>\n",
       "      <td>8850.409</td>\n",
       "      <td>6598.246</td>\n",
       "      <td>11102.572</td>\n",
       "    </tr>\n",
       "    <tr>\n",
       "      <th>77</th>\n",
       "      <td>Hungary</td>\n",
       "      <td>2020</td>\n",
       "      <td>5078.065</td>\n",
       "      <td>4672.507</td>\n",
       "      <td>2699.487</td>\n",
       "      <td>6921.767</td>\n",
       "      <td>4222.280</td>\n",
       "      <td>9621.254</td>\n",
       "    </tr>\n",
       "    <tr>\n",
       "      <th>83</th>\n",
       "      <td>Ireland</td>\n",
       "      <td>2020</td>\n",
       "      <td>2495.802</td>\n",
       "      <td>2450.316</td>\n",
       "      <td>1776.656</td>\n",
       "      <td>3111.336</td>\n",
       "      <td>1334.680</td>\n",
       "      <td>4887.992</td>\n",
       "    </tr>\n",
       "    <tr>\n",
       "      <th>89</th>\n",
       "      <td>Italy</td>\n",
       "      <td>2020</td>\n",
       "      <td>30512.662</td>\n",
       "      <td>28987.916</td>\n",
       "      <td>17125.372</td>\n",
       "      <td>42006.701</td>\n",
       "      <td>24881.329</td>\n",
       "      <td>59132.073</td>\n",
       "    </tr>\n",
       "    <tr>\n",
       "      <th>95</th>\n",
       "      <td>Latvia</td>\n",
       "      <td>2020</td>\n",
       "      <td>1019.942</td>\n",
       "      <td>877.110</td>\n",
       "      <td>599.796</td>\n",
       "      <td>1293.197</td>\n",
       "      <td>693.401</td>\n",
       "      <td>1892.993</td>\n",
       "    </tr>\n",
       "    <tr>\n",
       "      <th>101</th>\n",
       "      <td>Lithuania</td>\n",
       "      <td>2020</td>\n",
       "      <td>1499.068</td>\n",
       "      <td>1321.199</td>\n",
       "      <td>911.492</td>\n",
       "      <td>1940.986</td>\n",
       "      <td>1029.494</td>\n",
       "      <td>2852.478</td>\n",
       "    </tr>\n",
       "    <tr>\n",
       "      <th>107</th>\n",
       "      <td>Luxembourg</td>\n",
       "      <td>2020</td>\n",
       "      <td>313.197</td>\n",
       "      <td>317.202</td>\n",
       "      <td>51.616</td>\n",
       "      <td>552.328</td>\n",
       "      <td>500.712</td>\n",
       "      <td>603.944</td>\n",
       "    </tr>\n",
       "    <tr>\n",
       "      <th>113</th>\n",
       "      <td>Malta</td>\n",
       "      <td>2020</td>\n",
       "      <td>248.447</td>\n",
       "      <td>266.911</td>\n",
       "      <td>22.830</td>\n",
       "      <td>411.533</td>\n",
       "      <td>388.703</td>\n",
       "      <td>434.363</td>\n",
       "    </tr>\n",
       "    <tr>\n",
       "      <th>119</th>\n",
       "      <td>Netherlands</td>\n",
       "      <td>2020</td>\n",
       "      <td>8772.631</td>\n",
       "      <td>8661.926</td>\n",
       "      <td>1333.967</td>\n",
       "      <td>15847.281</td>\n",
       "      <td>14513.314</td>\n",
       "      <td>17181.248</td>\n",
       "    </tr>\n",
       "    <tr>\n",
       "      <th>125</th>\n",
       "      <td>Poland</td>\n",
       "      <td>2020</td>\n",
       "      <td>19838.160</td>\n",
       "      <td>18590.207</td>\n",
       "      <td>15160.592</td>\n",
       "      <td>22781.639</td>\n",
       "      <td>7621.047</td>\n",
       "      <td>37942.231</td>\n",
       "    </tr>\n",
       "    <tr>\n",
       "      <th>131</th>\n",
       "      <td>Portugal</td>\n",
       "      <td>2020</td>\n",
       "      <td>5438.319</td>\n",
       "      <td>4859.873</td>\n",
       "      <td>3442.606</td>\n",
       "      <td>6775.807</td>\n",
       "      <td>3333.201</td>\n",
       "      <td>10218.413</td>\n",
       "    </tr>\n",
       "    <tr>\n",
       "      <th>137</th>\n",
       "      <td>Romania</td>\n",
       "      <td>2020</td>\n",
       "      <td>10036.193</td>\n",
       "      <td>9405.845</td>\n",
       "      <td>8880.997</td>\n",
       "      <td>10507.365</td>\n",
       "      <td>1626.368</td>\n",
       "      <td>19388.362</td>\n",
       "    </tr>\n",
       "    <tr>\n",
       "      <th>143</th>\n",
       "      <td>Slovakia</td>\n",
       "      <td>2020</td>\n",
       "      <td>2792.010</td>\n",
       "      <td>2664.671</td>\n",
       "      <td>2520.712</td>\n",
       "      <td>2930.688</td>\n",
       "      <td>409.976</td>\n",
       "      <td>5451.400</td>\n",
       "    </tr>\n",
       "    <tr>\n",
       "      <th>149</th>\n",
       "      <td>Slovenia</td>\n",
       "      <td>2020</td>\n",
       "      <td>1054.644</td>\n",
       "      <td>1062.997</td>\n",
       "      <td>934.472</td>\n",
       "      <td>1147.583</td>\n",
       "      <td>213.111</td>\n",
       "      <td>2082.055</td>\n",
       "    </tr>\n",
       "    <tr>\n",
       "      <th>155</th>\n",
       "      <td>Spain</td>\n",
       "      <td>2020</td>\n",
       "      <td>24151.070</td>\n",
       "      <td>23212.737</td>\n",
       "      <td>8915.682</td>\n",
       "      <td>37543.537</td>\n",
       "      <td>28627.855</td>\n",
       "      <td>46459.219</td>\n",
       "    </tr>\n",
       "    <tr>\n",
       "      <th>161</th>\n",
       "      <td>Sweden</td>\n",
       "      <td>2020</td>\n",
       "      <td>5149.922</td>\n",
       "      <td>5219.047</td>\n",
       "      <td>1216.924</td>\n",
       "      <td>8904.762</td>\n",
       "      <td>7687.838</td>\n",
       "      <td>10121.686</td>\n",
       "    </tr>\n",
       "  </tbody>\n",
       "</table>\n",
       "</div>"
      ],
      "text/plain": [
       "            Area  Year  Female_K      Male_K    Rural_K    Urban_K  \\\n",
       "5        Austria  2020   4524.926   4382.851   3622.850   5159.360   \n",
       "11       Belgium  2020   5854.453   5707.264    223.197  11396.775   \n",
       "17      Bulgaria  2020   3593.896   3385.278   1687.490   5253.037   \n",
       "23       Croatia  2020   2103.215   1993.655   1747.114   2368.833   \n",
       "29        Cyprus  2020    617.605    619.932    400.589    806.754   \n",
       "35       Czechia  2020   5343.468   5187.485   2758.156   7875.268   \n",
       "41       Denmark  2020   2928.360   2897.282    688.897   5107.903   \n",
       "47       Estonia  2020    699.604    629.841    400.194    900.365   \n",
       "53       Finland  2020   2798.450   2731.017    808.148   4771.979   \n",
       "59        France  2020  33303.876  31176.177  12503.199  53217.966   \n",
       "65       Germany  2020  42213.517  41115.471  18610.145  63930.305   \n",
       "71        Greece  2020   5361.245   5150.987   2252.163   8850.409   \n",
       "77       Hungary  2020   5078.065   4672.507   2699.487   6921.767   \n",
       "83       Ireland  2020   2495.802   2450.316   1776.656   3111.336   \n",
       "89         Italy  2020  30512.662  28987.916  17125.372  42006.701   \n",
       "95        Latvia  2020   1019.942    877.110    599.796   1293.197   \n",
       "101    Lithuania  2020   1499.068   1321.199    911.492   1940.986   \n",
       "107   Luxembourg  2020    313.197    317.202     51.616    552.328   \n",
       "113        Malta  2020    248.447    266.911     22.830    411.533   \n",
       "119  Netherlands  2020   8772.631   8661.926   1333.967  15847.281   \n",
       "125       Poland  2020  19838.160  18590.207  15160.592  22781.639   \n",
       "131     Portugal  2020   5438.319   4859.873   3442.606   6775.807   \n",
       "137      Romania  2020  10036.193   9405.845   8880.997  10507.365   \n",
       "143     Slovakia  2020   2792.010   2664.671   2520.712   2930.688   \n",
       "149     Slovenia  2020   1054.644   1062.997    934.472   1147.583   \n",
       "155        Spain  2020  24151.070  23212.737   8915.682  37543.537   \n",
       "161       Sweden  2020   5149.922   5219.047   1216.924   8904.762   \n",
       "\n",
       "     Variable_Urban_Rural_K    Total_K  \n",
       "5                  1536.510   8782.210  \n",
       "11                11173.578  11619.972  \n",
       "17                 3565.547   6940.527  \n",
       "23                  621.719   4115.947  \n",
       "29                  406.165   1207.343  \n",
       "35                 5117.112  10633.424  \n",
       "41                 4419.006   5796.800  \n",
       "47                  500.171   1300.559  \n",
       "53                 3963.831   5580.127  \n",
       "59                40714.767  65721.165  \n",
       "65                45320.160  82540.450  \n",
       "71                 6598.246  11102.572  \n",
       "77                 4222.280   9621.254  \n",
       "83                 1334.680   4887.992  \n",
       "89                24881.329  59132.073  \n",
       "95                  693.401   1892.993  \n",
       "101                1029.494   2852.478  \n",
       "107                 500.712    603.944  \n",
       "113                 388.703    434.363  \n",
       "119               14513.314  17181.248  \n",
       "125                7621.047  37942.231  \n",
       "131                3333.201  10218.413  \n",
       "137                1626.368  19388.362  \n",
       "143                 409.976   5451.400  \n",
       "149                 213.111   2082.055  \n",
       "155               28627.855  46459.219  \n",
       "161                7687.838  10121.686  "
      ]
     },
     "execution_count": 79,
     "metadata": {},
     "output_type": "execute_result"
    }
   ],
   "source": [
    "df_pop20"
   ]
  },
  {
   "cell_type": "code",
   "execution_count": 81,
   "id": "dad6365b",
   "metadata": {},
   "outputs": [
    {
     "data": {
      "text/plain": [
       "ShapiroResult(statistic=0.9757044315338135, pvalue=0.9283227920532227)"
      ]
     },
     "execution_count": 81,
     "metadata": {},
     "output_type": "execute_result"
    }
   ],
   "source": [
    "#Shapiro wilk test\n",
    "\n",
    "pystats.shapiro(df_pop.Variable_Urban_Rural_K[df_pop.Area == \"Ireland\"])"
   ]
  },
  {
   "cell_type": "code",
   "execution_count": 21,
   "id": "b560c7b3",
   "metadata": {},
   "outputs": [
    {
     "data": {
      "text/plain": [
       "ShapiroResult(statistic=0.9807613492012024, pvalue=0.9552789926528931)"
      ]
     },
     "execution_count": 21,
     "metadata": {},
     "output_type": "execute_result"
    }
   ],
   "source": [
    "#Shapiro wilk test\n",
    "\n",
    "pystats.shapiro(df_pop20.Variable_Urban_Rural_K[df_pop20.Area == \"Croatia\"])"
   ]
  },
  {
   "cell_type": "code",
   "execution_count": 22,
   "id": "903fa8bd",
   "metadata": {},
   "outputs": [
    {
     "data": {
      "text/plain": [
       "ShapiroResult(statistic=0.9838061928749084, pvalue=0.9688383340835571)"
      ]
     },
     "execution_count": 22,
     "metadata": {},
     "output_type": "execute_result"
    }
   ],
   "source": [
    "#Shapiro wilk test\n",
    "\n",
    "pystats.shapiro(df_pop.Variable_Urban_Rural_K[df_pop.Area == \"Denmark\"])"
   ]
  },
  {
   "cell_type": "code",
   "execution_count": 23,
   "id": "8bc966fc",
   "metadata": {},
   "outputs": [
    {
     "data": {
      "text/plain": [
       "ShapiroResult(statistic=0.9842236638069153, pvalue=0.9705241918563843)"
      ]
     },
     "execution_count": 23,
     "metadata": {},
     "output_type": "execute_result"
    }
   ],
   "source": [
    "#Shapiro wilk test\n",
    "\n",
    "pystats.shapiro(df_pop.Variable_Urban_Rural_K[df_pop.Area == \"Luxembourg\"])"
   ]
  },
  {
   "cell_type": "code",
   "execution_count": 24,
   "id": "3b2e7c33",
   "metadata": {},
   "outputs": [
    {
     "data": {
      "text/plain": [
       "ShapiroResult(statistic=0.9821272492408752, pvalue=0.9616302251815796)"
      ]
     },
     "execution_count": 24,
     "metadata": {},
     "output_type": "execute_result"
    }
   ],
   "source": [
    "#Shapiro wilk test\n",
    "\n",
    "pystats.shapiro(df_pop.Variable_Urban_Rural_K[df_pop.Area == \"Malta\"])"
   ]
  },
  {
   "cell_type": "code",
   "execution_count": 25,
   "id": "302b7aed",
   "metadata": {},
   "outputs": [
    {
     "data": {
      "text/plain": [
       "ShapiroResult(statistic=0.9814608693122864, pvalue=0.9585848450660706)"
      ]
     },
     "execution_count": 25,
     "metadata": {},
     "output_type": "execute_result"
    }
   ],
   "source": [
    "#Shapiro wilk test\n",
    "\n",
    "pystats.shapiro(df_pop.Variable_Urban_Rural_K[df_pop.Area == \"Portugal\"])"
   ]
  },
  {
   "cell_type": "code",
   "execution_count": 26,
   "id": "61130549",
   "metadata": {},
   "outputs": [
    {
     "data": {
      "text/plain": [
       "ShapiroResult(statistic=0.9773889183998108, pvalue=0.9378669857978821)"
      ]
     },
     "execution_count": 26,
     "metadata": {},
     "output_type": "execute_result"
    }
   ],
   "source": [
    "#Shapiro wilk test\n",
    "\n",
    "pystats.shapiro(df_pop.Variable_Urban_Rural_K[df_pop.Area == \"Germany\"])"
   ]
  },
  {
   "cell_type": "code",
   "execution_count": 82,
   "id": "3b462317",
   "metadata": {
    "scrolled": true
   },
   "outputs": [
    {
     "name": "stdout",
     "output_type": "stream",
     "text": [
      "           Area  Year  Female_K      Male_K    Rural_K    Urban_K  \\\n",
      "23      Croatia  2020   2103.215   1993.655   1747.114   2368.833   \n",
      "41      Denmark  2020   2928.360   2897.282    688.897   5107.903   \n",
      "65      Germany  2020  42213.517  41115.471  18610.145  63930.305   \n",
      "83      Ireland  2020   2495.802   2450.316   1776.656   3111.336   \n",
      "107  Luxembourg  2020    313.197    317.202     51.616    552.328   \n",
      "113       Malta  2020    248.447    266.911     22.830    411.533   \n",
      "131    Portugal  2020   5438.319   4859.873   3442.606   6775.807   \n",
      "\n",
      "     Variable_Urban_Rural_K    Total_K  \n",
      "23                  621.719   4115.947  \n",
      "41                 4419.006   5796.800  \n",
      "65                45320.160  82540.450  \n",
      "83                 1334.680   4887.992  \n",
      "107                 500.712    603.944  \n",
      "113                 388.703    434.363  \n",
      "131                3333.201  10218.413  \n"
     ]
    }
   ],
   "source": [
    "#Creat a new data frame For Population with Ireland and some other European contries for 2020.\n",
    "df_pop20 = df_pop20[(df_pop.Area == \"Ireland\") | \n",
    "                    (df_pop.Area == \"Croatia\") |\n",
    "                    (df_pop.Area == \"Denmark\") |\n",
    "                    (df_pop.Area == \"Luxembourg\") |\n",
    "                    (df_pop.Area == \"Malta\") |\n",
    "                    (df_pop.Area == \"Portugal\") |\n",
    "                    (df_pop.Area == \"Germany\") ]\n",
    "print(df_pop20)"
   ]
  },
  {
   "cell_type": "code",
   "execution_count": 84,
   "id": "fdcad82c",
   "metadata": {},
   "outputs": [
    {
     "name": "stdout",
     "output_type": "stream",
     "text": [
      "           Area  Year  Female_K      Male_K    Rural_K    Urban_K  \\\n",
      "18      Croatia  2015   2196.249   2058.566   1857.290   2378.726   \n",
      "19      Croatia  2016   2177.865   2045.886   1836.858   2376.407   \n",
      "20      Croatia  2017   2159.300   2033.167   1815.373   2373.980   \n",
      "21      Croatia  2018   2140.352   2020.133   1793.077   2371.706   \n",
      "22      Croatia  2019   2122.252   2007.499   1770.247   2369.901   \n",
      "23      Croatia  2020   2103.215   1993.655   1747.114   2368.833   \n",
      "36      Denmark  2015   2858.620   2819.175    709.587   4979.108   \n",
      "37      Denmark  2016   2872.189   2834.668    705.862   5006.008   \n",
      "38      Denmark  2017   2886.493   2850.791    701.971   5031.580   \n",
      "39      Denmark  2018   2900.363   2866.323    697.769   5056.587   \n",
      "40      Denmark  2019   2914.173   2881.706    693.384   5081.840   \n",
      "41      Denmark  2020   2928.360   2897.282    688.897   5107.903   \n",
      "60      Germany  2015  41637.850  40435.376  18629.376  63078.413   \n",
      "61      Germany  2016  41741.679  40589.743  18657.193  63257.479   \n",
      "62      Germany  2017  41873.558  40750.817  18672.100  63442.124   \n",
      "63      Germany  2018  42001.866  40894.829  18671.111  63622.346   \n",
      "64      Germany  2019  42124.562  41023.579  18651.132  63787.507   \n",
      "65      Germany  2020  42213.517  41115.471  18610.145  63930.305   \n",
      "78      Ireland  2015   2357.720   2308.039   1760.732   2939.375   \n",
      "79      Ireland  2016   2381.941   2333.847   1761.090   2964.988   \n",
      "80      Ireland  2017   2409.471   2362.383   1764.335   2997.322   \n",
      "81      Ireland  2018   2440.194   2394.313   1769.220   3034.528   \n",
      "82      Ireland  2019   2470.880   2425.139   1773.798   3073.341   \n",
      "83      Ireland  2020   2495.802   2450.316   1776.656   3111.336   \n",
      "102  Luxembourg  2015    283.856    285.552     55.660    511.081   \n",
      "103  Luxembourg  2016    290.447    292.904     54.927    520.820   \n",
      "104  Luxembourg  2017    296.690    299.592     54.103    529.352   \n",
      "105  Luxembourg  2018    302.279    305.634     53.239    537.082   \n",
      "106  Luxembourg  2019    308.142    311.831     52.396    544.596   \n",
      "107  Luxembourg  2020    313.197    317.202     51.616    552.328   \n",
      "108       Malta  2015    225.920    230.659     23.888    403.728   \n",
      "109       Malta  2016    230.237    237.468     23.701    405.661   \n",
      "110       Malta  2017    234.787    244.709     23.498    407.337   \n",
      "111       Malta  2018    239.438    252.149     23.280    408.809   \n",
      "112       Malta  2019    244.000    259.634     23.057    410.188   \n",
      "113       Malta  2020    248.447    266.911     22.830    411.533   \n",
      "126    Portugal  2015   5449.820   4915.615   3801.276   6617.197   \n",
      "127    Portugal  2016   5437.751   4895.002   3724.867   6646.760   \n",
      "128    Portugal  2017   5429.443   4878.087   3651.305   6678.201   \n",
      "129    Portugal  2018   5427.292   4862.542   3580.203   6710.993   \n",
      "130    Portugal  2019   5432.203   4857.720   3510.812   6743.854   \n",
      "131    Portugal  2020   5438.319   4859.873   3442.606   6775.807   \n",
      "\n",
      "     Variable_Urban_Rural_K    Total_K  \n",
      "18                  521.436   4236.016  \n",
      "19                  539.549   4213.265  \n",
      "20                  558.607   4189.353  \n",
      "21                  578.629   4164.783  \n",
      "22                  599.654   4140.148  \n",
      "23                  621.719   4115.947  \n",
      "36                 4269.521   5688.695  \n",
      "37                 4300.146   5711.870  \n",
      "38                 4329.609   5733.551  \n",
      "39                 4358.818   5754.356  \n",
      "40                 4388.456   5775.224  \n",
      "41                 4419.006   5796.800  \n",
      "60                44449.037  81707.789  \n",
      "61                44600.286  81914.672  \n",
      "62                44770.024  82114.224  \n",
      "63                44951.235  82293.457  \n",
      "64                45136.375  82438.639  \n",
      "65                45320.160  82540.450  \n",
      "78                 1178.643   4700.107  \n",
      "79                 1203.898   4726.078  \n",
      "80                 1232.987   4761.657  \n",
      "81                 1265.308   4803.748  \n",
      "82                 1299.543   4847.139  \n",
      "83                 1334.680   4887.992  \n",
      "102                 455.421    566.741  \n",
      "103                 465.893    575.747  \n",
      "104                 475.249    583.455  \n",
      "105                 483.843    590.321  \n",
      "106                 492.200    596.992  \n",
      "107                 500.712    603.944  \n",
      "108                 379.840    427.616  \n",
      "109                 381.960    429.362  \n",
      "110                 383.839    430.835  \n",
      "111                 385.529    432.089  \n",
      "112                 387.131    433.245  \n",
      "113                 388.703    434.363  \n",
      "126                2815.921  10418.473  \n",
      "127                2921.893  10371.627  \n",
      "128                3026.896  10329.506  \n",
      "129                3130.790  10291.196  \n",
      "130                3233.042  10254.666  \n",
      "131                3333.201  10218.413  \n"
     ]
    }
   ],
   "source": [
    "#Creat a new data frame For Population with Ireland and some other European contries.\n",
    "df_pop_sp = df_pop_sp[(df_pop.Area == \"Ireland\") | \n",
    "                    (df_pop.Area == \"Croatia\") |\n",
    "                    (df_pop.Area == \"Denmark\") |\n",
    "                    (df_pop.Area == \"Luxembourg\") |\n",
    "                    (df_pop.Area == \"Malta\") |\n",
    "                    (df_pop.Area == \"Portugal\") |\n",
    "                    (df_pop.Area == \"Germany\") ]\n",
    "print(df_pop_sp)"
   ]
  },
  {
   "cell_type": "code",
   "execution_count": 85,
   "id": "1ceb2bc3",
   "metadata": {},
   "outputs": [
    {
     "name": "stdout",
     "output_type": "stream",
     "text": [
      "          Area  Year   Barley  Meat_Cattle  Meat_Pig  Raw_Milk\n",
      "24     Denmark  2015   688336       393357   2429233   1921853\n",
      "25     Denmark  2016   610185       397087   2625655   1906728\n",
      "26     Denmark  2017   663882       410411   2903526   2479425\n",
      "27     Denmark  2018   701078       453099   2585510   2542332\n",
      "28     Denmark  2019   702147       388300   2982377   2343005\n",
      "29     Denmark  2020   732549       372060   3546159   2456191\n",
      "48     Germany  2015  1870174      4140318   8556203  10729326\n",
      "49     Germany  2016  1495623      3966221   9213011   9830616\n",
      "50     Germany  2017  1667490      4131199  10150354  12925856\n",
      "51     Germany  2018  1873095      4475172   9022256  13793128\n",
      "52     Germany  2019  2035995      4020154  10185481  12739152\n",
      "53     Germany  2020  1848525      3976200  11000930  12500674\n",
      "65     Ireland  2015   352333      2689100    802155   2010371\n",
      "66     Ireland  2016   375665      2700582    839628   1904758\n",
      "67     Ireland  2017   506004      2917414    959746   2832949\n",
      "68     Ireland  2018   446585      2613065    904238   3135191\n",
      "69     Ireland  2019   564352      2653045    887378   3002494\n",
      "70     Ireland  2020   502396      2569984   1005651   3223118\n",
      "77  Luxembourg  2015     6994        37974     19833    114225\n",
      "78  Luxembourg  2016     4249        39212     23819    116043\n",
      "79  Luxembourg  2017     4943        40960     24566    154643\n",
      "80  Luxembourg  2018     6344        43991     22429    161551\n",
      "81  Luxembourg  2019     5376        42112     25825    159539\n",
      "82  Luxembourg  2020     5359        43481     27328    175256\n",
      "83       Malta  2015     2020         3255     13740     25897\n",
      "84       Malta  2016     2031         3454     11996     26101\n",
      "85       Malta  2017     2043         3466     11600     30322\n"
     ]
    }
   ],
   "source": [
    "#Creat a new data frame for Production with Ireland and some other European contries.\n",
    "df_prod_sp = df_prod[(df_prod.Area == \"Ireland\") | \n",
    "                   (df_prod.Area == \"Croatia\") |\n",
    "                   (df_prod.Area == \"Denmark\") |\n",
    "                   (df_prod.Area == \"Luxembourg\") |\n",
    "                   (df_prod.Area == \"Malta\") |\n",
    "                   (df_prod.Area == \"Portugal\") |\n",
    "                   (df_prod.Area == \"Germany\") ]\n",
    "df_prod_sp = df_prod_sp.rename(columns = {\"Meat Cattle\":\"Meat_Cattle\",\"Meat Pig\":\"Meat_Pig\",\"Raw Milk\":\"Raw_Milk\"})\n",
    "print(df_prod_sp)"
   ]
  },
  {
   "cell_type": "code",
   "execution_count": 86,
   "id": "a1c5c361",
   "metadata": {},
   "outputs": [
    {
     "data": {
      "text/plain": [
       "Croatia       6\n",
       "Denmark       6\n",
       "Germany       6\n",
       "Ireland       6\n",
       "Luxembourg    6\n",
       "Malta         6\n",
       "Portugal      6\n",
       "Name: Area, dtype: int64"
      ]
     },
     "execution_count": 86,
     "metadata": {},
     "output_type": "execute_result"
    }
   ],
   "source": [
    "df_pop_sp[\"Area\"].value_counts()"
   ]
  },
  {
   "cell_type": "code",
   "execution_count": 87,
   "id": "b7070b86",
   "metadata": {},
   "outputs": [],
   "source": [
    "#Organize New data frame by contry\n",
    "\n",
    "df_Ireland = df_pop_sp.Variable_Urban_Rural_K[df_pop_sp.Area ==\"Ireland\"]\n",
    "df_Croatia = df_pop_sp.Variable_Urban_Rural_K[df_pop_sp.Area ==\"Croatia\"]\n",
    "df_Denmark = df_pop_sp.Variable_Urban_Rural_K[df_pop_sp.Area ==\"Denmark\"]\n",
    "df_Luxembourg = df_pop_sp.Variable_Urban_Rural_K[df_pop_sp.Area ==\"Luxembourg\"]\n",
    "df_Malta = df_pop_sp.Variable_Urban_Rural_K[df_pop_sp.Area ==\"Malta\"]\n",
    "df_Portugal = df_pop_sp.Variable_Urban_Rural_K[df_pop_sp.Area ==\"Portugal\"]\n",
    "df_Germany = df_pop_sp.Variable_Urban_Rural_K[df_pop_sp.Area ==\"Germany\"]"
   ]
  },
  {
   "cell_type": "code",
   "execution_count": 88,
   "id": "e3ac341e",
   "metadata": {},
   "outputs": [
    {
     "data": {
      "text/plain": [
       "58.87004086092227"
      ]
     },
     "execution_count": 88,
     "metadata": {},
     "output_type": "execute_result"
    }
   ],
   "source": [
    "sd1 = df_Ireland.std()\n",
    "sd1"
   ]
  },
  {
   "cell_type": "code",
   "execution_count": 89,
   "id": "48949560",
   "metadata": {},
   "outputs": [
    {
     "data": {
      "text/plain": [
       "37.534444957487516"
      ]
     },
     "execution_count": 89,
     "metadata": {},
     "output_type": "execute_result"
    }
   ],
   "source": [
    "sd2 = df_Croatia.std()\n",
    "sd2"
   ]
  },
  {
   "cell_type": "code",
   "execution_count": 90,
   "id": "82284210",
   "metadata": {},
   "outputs": [
    {
     "data": {
      "text/plain": [
       "55.67549049866255"
      ]
     },
     "execution_count": 90,
     "metadata": {},
     "output_type": "execute_result"
    }
   ],
   "source": [
    "sd3 = df_Denmark.std()\n",
    "sd3"
   ]
  },
  {
   "cell_type": "code",
   "execution_count": 91,
   "id": "affafaae",
   "metadata": {},
   "outputs": [
    {
     "data": {
      "text/plain": [
       "16.797980612760153"
      ]
     },
     "execution_count": 91,
     "metadata": {},
     "output_type": "execute_result"
    }
   ],
   "source": [
    "sd4 = df_Luxembourg.std()\n",
    "sd4"
   ]
  },
  {
   "cell_type": "code",
   "execution_count": 92,
   "id": "2031d641",
   "metadata": {},
   "outputs": [
    {
     "data": {
      "text/plain": [
       "3.293943877279431"
      ]
     },
     "execution_count": 92,
     "metadata": {},
     "output_type": "execute_result"
    }
   ],
   "source": [
    "sd5 = df_Malta.std()\n",
    "sd5"
   ]
  },
  {
   "cell_type": "code",
   "execution_count": 93,
   "id": "9cfbd929",
   "metadata": {},
   "outputs": [
    {
     "data": {
      "text/plain": [
       "193.7071231332669"
      ]
     },
     "execution_count": 93,
     "metadata": {},
     "output_type": "execute_result"
    }
   ],
   "source": [
    "sd6 = df_Portugal.std()\n",
    "sd6"
   ]
  },
  {
   "cell_type": "code",
   "execution_count": 94,
   "id": "d363a6ef",
   "metadata": {},
   "outputs": [
    {
     "data": {
      "text/plain": [
       "328.6764485760543"
      ]
     },
     "execution_count": 94,
     "metadata": {},
     "output_type": "execute_result"
    }
   ],
   "source": [
    "sd7 = df_Germany.std()\n",
    "sd7"
   ]
  },
  {
   "cell_type": "code",
   "execution_count": 95,
   "id": "75e7ae0b",
   "metadata": {},
   "outputs": [],
   "source": [
    "#Homogeinity of variance: Levene's test\n",
    "\n",
    "from scipy.stats import levene"
   ]
  },
  {
   "cell_type": "code",
   "execution_count": 96,
   "id": "3dd39c1d",
   "metadata": {},
   "outputs": [
    {
     "data": {
      "text/plain": [
       "LeveneResult(statistic=11.21412010639353, pvalue=5.838042277091072e-07)"
      ]
     },
     "execution_count": 96,
     "metadata": {},
     "output_type": "execute_result"
    }
   ],
   "source": [
    "levene(df_Ireland, df_Croatia, df_Denmark, df_Luxembourg, df_Malta, df_Portugal, df_Germany, center = \"mean\")"
   ]
  },
  {
   "cell_type": "code",
   "execution_count": 98,
   "id": "2391ce0d",
   "metadata": {},
   "outputs": [
    {
     "name": "stdout",
     "output_type": "stream",
     "text": [
      "            df        sum_sq       mean_sq             F        PR(>F)\n",
      "Area       6.0  9.673401e+09  1.612234e+09  73370.073284  3.254386e-70\n",
      "Residual  35.0  7.690898e+05  2.197399e+04           NaN           NaN\n"
     ]
    }
   ],
   "source": [
    "#ONE-WAY ANOVA\n",
    "model = ols(\"Variable_Urban_Rural_K~Area\", data = df_pop_sp).fit()\n",
    "aov = sm.stats.anova_lm(model, type=2)\n",
    "print(aov)"
   ]
  },
  {
   "cell_type": "code",
   "execution_count": 99,
   "id": "0e8c7451",
   "metadata": {},
   "outputs": [],
   "source": [
    "#H0 = means are equal\n",
    "#H1 = means are not equal"
   ]
  },
  {
   "cell_type": "markdown",
   "id": "f5c3bcce",
   "metadata": {},
   "source": [
    "# Descriptive Population"
   ]
  },
  {
   "cell_type": "code",
   "execution_count": 100,
   "id": "ea68fe8f",
   "metadata": {
    "scrolled": true
   },
   "outputs": [
    {
     "data": {
      "text/html": [
       "<div>\n",
       "<style scoped>\n",
       "    .dataframe tbody tr th:only-of-type {\n",
       "        vertical-align: middle;\n",
       "    }\n",
       "\n",
       "    .dataframe tbody tr th {\n",
       "        vertical-align: top;\n",
       "    }\n",
       "\n",
       "    .dataframe thead th {\n",
       "        text-align: right;\n",
       "    }\n",
       "</style>\n",
       "<table border=\"1\" class=\"dataframe\">\n",
       "  <thead>\n",
       "    <tr style=\"text-align: right;\">\n",
       "      <th></th>\n",
       "      <th>Area</th>\n",
       "      <th>Year</th>\n",
       "      <th>Female_K</th>\n",
       "      <th>Male_K</th>\n",
       "      <th>Rural_K</th>\n",
       "      <th>Urban_K</th>\n",
       "      <th>Variable_Urban_Rural_K</th>\n",
       "      <th>Total_K</th>\n",
       "    </tr>\n",
       "  </thead>\n",
       "  <tbody>\n",
       "    <tr>\n",
       "      <th>0</th>\n",
       "      <td>Austria</td>\n",
       "      <td>2015</td>\n",
       "      <td>4406.012</td>\n",
       "      <td>4236.408</td>\n",
       "      <td>3669.727</td>\n",
       "      <td>5008.930</td>\n",
       "      <td>1339.203</td>\n",
       "      <td>8678.657</td>\n",
       "    </tr>\n",
       "    <tr>\n",
       "      <th>1</th>\n",
       "      <td>Austria</td>\n",
       "      <td>2016</td>\n",
       "      <td>4444.016</td>\n",
       "      <td>4292.470</td>\n",
       "      <td>3667.377</td>\n",
       "      <td>5044.760</td>\n",
       "      <td>1377.383</td>\n",
       "      <td>8712.137</td>\n",
       "    </tr>\n",
       "    <tr>\n",
       "      <th>2</th>\n",
       "      <td>Austria</td>\n",
       "      <td>2017</td>\n",
       "      <td>4472.011</td>\n",
       "      <td>4325.485</td>\n",
       "      <td>3660.707</td>\n",
       "      <td>5074.746</td>\n",
       "      <td>1414.039</td>\n",
       "      <td>8735.453</td>\n",
       "    </tr>\n",
       "    <tr>\n",
       "      <th>3</th>\n",
       "      <td>Austria</td>\n",
       "      <td>2018</td>\n",
       "      <td>4492.710</td>\n",
       "      <td>4347.802</td>\n",
       "      <td>3649.748</td>\n",
       "      <td>5102.072</td>\n",
       "      <td>1452.324</td>\n",
       "      <td>8751.820</td>\n",
       "    </tr>\n",
       "    <tr>\n",
       "      <th>4</th>\n",
       "      <td>Austria</td>\n",
       "      <td>2019</td>\n",
       "      <td>4511.992</td>\n",
       "      <td>4367.948</td>\n",
       "      <td>3636.627</td>\n",
       "      <td>5129.574</td>\n",
       "      <td>1492.947</td>\n",
       "      <td>8766.201</td>\n",
       "    </tr>\n",
       "  </tbody>\n",
       "</table>\n",
       "</div>"
      ],
      "text/plain": [
       "      Area  Year  Female_K     Male_K   Rural_K   Urban_K  \\\n",
       "0  Austria  2015   4406.012  4236.408  3669.727  5008.930   \n",
       "1  Austria  2016   4444.016  4292.470  3667.377  5044.760   \n",
       "2  Austria  2017   4472.011  4325.485  3660.707  5074.746   \n",
       "3  Austria  2018   4492.710  4347.802  3649.748  5102.072   \n",
       "4  Austria  2019   4511.992  4367.948  3636.627  5129.574   \n",
       "\n",
       "   Variable_Urban_Rural_K   Total_K  \n",
       "0                1339.203  8678.657  \n",
       "1                1377.383  8712.137  \n",
       "2                1414.039  8735.453  \n",
       "3                1452.324  8751.820  \n",
       "4                1492.947  8766.201  "
      ]
     },
     "execution_count": 100,
     "metadata": {},
     "output_type": "execute_result"
    }
   ],
   "source": [
    "df_pop.head()"
   ]
  },
  {
   "cell_type": "code",
   "execution_count": 45,
   "id": "afc3e709",
   "metadata": {},
   "outputs": [
    {
     "data": {
      "text/html": [
       "<div>\n",
       "<style scoped>\n",
       "    .dataframe tbody tr th:only-of-type {\n",
       "        vertical-align: middle;\n",
       "    }\n",
       "\n",
       "    .dataframe tbody tr th {\n",
       "        vertical-align: top;\n",
       "    }\n",
       "\n",
       "    .dataframe thead th {\n",
       "        text-align: right;\n",
       "    }\n",
       "</style>\n",
       "<table border=\"1\" class=\"dataframe\">\n",
       "  <thead>\n",
       "    <tr style=\"text-align: right;\">\n",
       "      <th></th>\n",
       "      <th>Year</th>\n",
       "      <th>Female_K</th>\n",
       "      <th>Male_K</th>\n",
       "      <th>Rural_K</th>\n",
       "      <th>Urban_K</th>\n",
       "      <th>Variable_Urban_Rural_K</th>\n",
       "      <th>Total_K</th>\n",
       "    </tr>\n",
       "  </thead>\n",
       "  <tbody>\n",
       "    <tr>\n",
       "      <th>count</th>\n",
       "      <td>162.000000</td>\n",
       "      <td>162.000000</td>\n",
       "      <td>162.000000</td>\n",
       "      <td>162.000000</td>\n",
       "      <td>162.000000</td>\n",
       "      <td>162.000000</td>\n",
       "      <td>162.000000</td>\n",
       "    </tr>\n",
       "    <tr>\n",
       "      <th>mean</th>\n",
       "      <td>2017.500000</td>\n",
       "      <td>8416.395802</td>\n",
       "      <td>8029.845204</td>\n",
       "      <td>4202.020821</td>\n",
       "      <td>12201.796191</td>\n",
       "      <td>7999.775370</td>\n",
       "      <td>16403.817012</td>\n",
       "    </tr>\n",
       "    <tr>\n",
       "      <th>std</th>\n",
       "      <td>1.713121</td>\n",
       "      <td>11055.504251</td>\n",
       "      <td>10572.188643</td>\n",
       "      <td>5507.851914</td>\n",
       "      <td>16515.867099</td>\n",
       "      <td>11888.720843</td>\n",
       "      <td>21561.050860</td>\n",
       "    </tr>\n",
       "    <tr>\n",
       "      <th>min</th>\n",
       "      <td>2015.000000</td>\n",
       "      <td>225.920000</td>\n",
       "      <td>230.659000</td>\n",
       "      <td>22.830000</td>\n",
       "      <td>403.728000</td>\n",
       "      <td>156.904000</td>\n",
       "      <td>427.616000</td>\n",
       "    </tr>\n",
       "    <tr>\n",
       "      <th>25%</th>\n",
       "      <td>2016.000000</td>\n",
       "      <td>1577.235750</td>\n",
       "      <td>1363.960000</td>\n",
       "      <td>706.793250</td>\n",
       "      <td>1962.161000</td>\n",
       "      <td>605.170250</td>\n",
       "      <td>2914.168250</td>\n",
       "    </tr>\n",
       "    <tr>\n",
       "      <th>50%</th>\n",
       "      <td>2017.500000</td>\n",
       "      <td>4482.360500</td>\n",
       "      <td>4336.643500</td>\n",
       "      <td>1772.022500</td>\n",
       "      <td>5284.081000</td>\n",
       "      <td>3507.452500</td>\n",
       "      <td>8743.636500</td>\n",
       "    </tr>\n",
       "    <tr>\n",
       "      <th>75%</th>\n",
       "      <td>2019.000000</td>\n",
       "      <td>8620.210500</td>\n",
       "      <td>8483.445250</td>\n",
       "      <td>3658.356500</td>\n",
       "      <td>11103.565250</td>\n",
       "      <td>7657.203500</td>\n",
       "      <td>16975.122250</td>\n",
       "    </tr>\n",
       "    <tr>\n",
       "      <th>max</th>\n",
       "      <td>2020.000000</td>\n",
       "      <td>42213.517000</td>\n",
       "      <td>41115.471000</td>\n",
       "      <td>18672.100000</td>\n",
       "      <td>63930.305000</td>\n",
       "      <td>45320.160000</td>\n",
       "      <td>82540.450000</td>\n",
       "    </tr>\n",
       "  </tbody>\n",
       "</table>\n",
       "</div>"
      ],
      "text/plain": [
       "              Year     Female_K         Male_K       Rural_K       Urban_K  \\\n",
       "count   162.000000    162.000000    162.000000    162.000000    162.000000   \n",
       "mean   2017.500000   8416.395802   8029.845204   4202.020821  12201.796191   \n",
       "std       1.713121  11055.504251  10572.188643   5507.851914  16515.867099   \n",
       "min    2015.000000    225.920000    230.659000     22.830000    403.728000   \n",
       "25%    2016.000000   1577.235750   1363.960000    706.793250   1962.161000   \n",
       "50%    2017.500000   4482.360500   4336.643500   1772.022500   5284.081000   \n",
       "75%    2019.000000   8620.210500   8483.445250   3658.356500  11103.565250   \n",
       "max    2020.000000  42213.517000  41115.471000  18672.100000  63930.305000   \n",
       "\n",
       "       Variable_Urban_Rural_K       Total_K  \n",
       "count              162.000000    162.000000  \n",
       "mean              7999.775370  16403.817012  \n",
       "std              11888.720843  21561.050860  \n",
       "min                156.904000    427.616000  \n",
       "25%                605.170250   2914.168250  \n",
       "50%               3507.452500   8743.636500  \n",
       "75%               7657.203500  16975.122250  \n",
       "max              45320.160000  82540.450000  "
      ]
     },
     "execution_count": 45,
     "metadata": {},
     "output_type": "execute_result"
    }
   ],
   "source": [
    "df_pop.describe()"
   ]
  },
  {
   "cell_type": "code",
   "execution_count": 46,
   "id": "47c79591",
   "metadata": {},
   "outputs": [
    {
     "name": "stdout",
     "output_type": "stream",
     "text": [
      "16403.817012345673\n"
     ]
    }
   ],
   "source": [
    "mean_total = df_pop[\"Total_K\"].mean()\n",
    "print(mean_total)"
   ]
  },
  {
   "cell_type": "code",
   "execution_count": 47,
   "id": "d483b8c1",
   "metadata": {},
   "outputs": [
    {
     "name": "stdout",
     "output_type": "stream",
     "text": [
      "8743.6365\n"
     ]
    }
   ],
   "source": [
    "median_total = df_pop[\"Total_K\"].median()\n",
    "print(median_total)"
   ]
  },
  {
   "cell_type": "code",
   "execution_count": 48,
   "id": "6aa8c125",
   "metadata": {},
   "outputs": [
    {
     "name": "stdout",
     "output_type": "stream",
     "text": [
      "21561.05085964443\n"
     ]
    }
   ],
   "source": [
    "std_total = df_pop[\"Total_K\"].std()\n",
    "print(std_total)"
   ]
  },
  {
   "cell_type": "code",
   "execution_count": 49,
   "id": "c851268f",
   "metadata": {},
   "outputs": [
    {
     "name": "stdout",
     "output_type": "stream",
     "text": [
      "82540.45\n"
     ]
    }
   ],
   "source": [
    "max_total = df_pop[\"Total_K\"].max()\n",
    "print(max_total)"
   ]
  },
  {
   "cell_type": "code",
   "execution_count": 50,
   "id": "b32284a7",
   "metadata": {},
   "outputs": [
    {
     "name": "stdout",
     "output_type": "stream",
     "text": [
      "0        427.616\n",
      "1        429.362\n",
      "2        430.835\n",
      "3        432.089\n",
      "4        433.245\n",
      "         ...    \n",
      "157    81914.672\n",
      "158    82114.224\n",
      "159    82293.457\n",
      "160    82438.639\n",
      "161    82540.450\n",
      "Name: Total_K, Length: 162, dtype: float64\n"
     ]
    }
   ],
   "source": [
    "mode_total = df_pop[\"Total_K\"].mode()\n",
    "print(mode_total)"
   ]
  },
  {
   "cell_type": "code",
   "execution_count": 101,
   "id": "f11a1795",
   "metadata": {},
   "outputs": [
    {
     "data": {
      "text/plain": [
       "[Text(0.5, 0, 'Variable of Population between 2015 to 2020 urban to Rural'),\n",
       " Text(0, 0.5, ' '),\n",
       " Text(0.5, 1.0, 'Population European')]"
      ]
     },
     "execution_count": 101,
     "metadata": {},
     "output_type": "execute_result"
    },
    {
     "data": {
      "image/png": "[encoded data removed]",
      "text/plain": [
       "<Figure size 432x288 with 1 Axes>"
      ]
     },
     "metadata": {},
     "output_type": "display_data"
    }
   ],
   "source": [
    "ax = sns.histplot(df_pop20.Variable_Urban_Rural_K)\n",
    "ax.set(xlabel = \"Variable of Population between 2015 to 2020 urban to Rural\", ylabel = \" \", title = \"Population European\")"
   ]
  },
  {
   "cell_type": "code",
   "execution_count": 102,
   "id": "7d7a7a83",
   "metadata": {},
   "outputs": [
    {
     "data": {
      "text/plain": [
       "[Text(0.5, 0, 'Variable of Population between 2015 to 2020 urban to Rural'),\n",
       " Text(0, 0.5, ' '),\n",
       " Text(0.5, 1.0, 'Population European')]"
      ]
     },
     "execution_count": 102,
     "metadata": {},
     "output_type": "execute_result"
    },
    {
     "data": {
      "image/png": "[encoded data removed]",
      "text/plain": [
       "<Figure size 432x288 with 1 Axes>"
      ]
     },
     "metadata": {},
     "output_type": "display_data"
    }
   ],
   "source": [
    "ax = sns.histplot(df_pop20.Variable_Urban_Rural_K, kde=True, color ='green')\n",
    "ax.set(xlabel = \"Variable of Population between 2015 to 2020 urban to Rural\", ylabel = \" \", title = \"Population European\")"
   ]
  },
  {
   "cell_type": "code",
   "execution_count": 103,
   "id": "8d341691",
   "metadata": {
    "scrolled": false
   },
   "outputs": [
    {
     "data": {
      "text/html": [
       "<div>\n",
       "<style scoped>\n",
       "    .dataframe tbody tr th:only-of-type {\n",
       "        vertical-align: middle;\n",
       "    }\n",
       "\n",
       "    .dataframe tbody tr th {\n",
       "        vertical-align: top;\n",
       "    }\n",
       "\n",
       "    .dataframe thead th {\n",
       "        text-align: right;\n",
       "    }\n",
       "</style>\n",
       "<table border=\"1\" class=\"dataframe\">\n",
       "  <thead>\n",
       "    <tr style=\"text-align: right;\">\n",
       "      <th></th>\n",
       "      <th>Year</th>\n",
       "      <th>Female_K</th>\n",
       "      <th>Male_K</th>\n",
       "      <th>Rural_K</th>\n",
       "      <th>Urban_K</th>\n",
       "      <th>Variable_Urban_Rural_K</th>\n",
       "      <th>Total_K</th>\n",
       "    </tr>\n",
       "    <tr>\n",
       "      <th>Area</th>\n",
       "      <th></th>\n",
       "      <th></th>\n",
       "      <th></th>\n",
       "      <th></th>\n",
       "      <th></th>\n",
       "      <th></th>\n",
       "      <th></th>\n",
       "    </tr>\n",
       "  </thead>\n",
       "  <tbody>\n",
       "    <tr>\n",
       "      <th>Croatia</th>\n",
       "      <td>2020</td>\n",
       "      <td>2103.215</td>\n",
       "      <td>1993.655</td>\n",
       "      <td>1747.114</td>\n",
       "      <td>2368.833</td>\n",
       "      <td>621.719</td>\n",
       "      <td>4115.947</td>\n",
       "    </tr>\n",
       "    <tr>\n",
       "      <th>Denmark</th>\n",
       "      <td>2020</td>\n",
       "      <td>2928.360</td>\n",
       "      <td>2897.282</td>\n",
       "      <td>688.897</td>\n",
       "      <td>5107.903</td>\n",
       "      <td>4419.006</td>\n",
       "      <td>5796.800</td>\n",
       "    </tr>\n",
       "    <tr>\n",
       "      <th>Germany</th>\n",
       "      <td>2020</td>\n",
       "      <td>42213.517</td>\n",
       "      <td>41115.471</td>\n",
       "      <td>18610.145</td>\n",
       "      <td>63930.305</td>\n",
       "      <td>45320.160</td>\n",
       "      <td>82540.450</td>\n",
       "    </tr>\n",
       "    <tr>\n",
       "      <th>Ireland</th>\n",
       "      <td>2020</td>\n",
       "      <td>2495.802</td>\n",
       "      <td>2450.316</td>\n",
       "      <td>1776.656</td>\n",
       "      <td>3111.336</td>\n",
       "      <td>1334.680</td>\n",
       "      <td>4887.992</td>\n",
       "    </tr>\n",
       "    <tr>\n",
       "      <th>Luxembourg</th>\n",
       "      <td>2020</td>\n",
       "      <td>313.197</td>\n",
       "      <td>317.202</td>\n",
       "      <td>51.616</td>\n",
       "      <td>552.328</td>\n",
       "      <td>500.712</td>\n",
       "      <td>603.944</td>\n",
       "    </tr>\n",
       "    <tr>\n",
       "      <th>Malta</th>\n",
       "      <td>2020</td>\n",
       "      <td>248.447</td>\n",
       "      <td>266.911</td>\n",
       "      <td>22.830</td>\n",
       "      <td>411.533</td>\n",
       "      <td>388.703</td>\n",
       "      <td>434.363</td>\n",
       "    </tr>\n",
       "    <tr>\n",
       "      <th>Portugal</th>\n",
       "      <td>2020</td>\n",
       "      <td>5438.319</td>\n",
       "      <td>4859.873</td>\n",
       "      <td>3442.606</td>\n",
       "      <td>6775.807</td>\n",
       "      <td>3333.201</td>\n",
       "      <td>10218.413</td>\n",
       "    </tr>\n",
       "  </tbody>\n",
       "</table>\n",
       "</div>"
      ],
      "text/plain": [
       "            Year  Female_K      Male_K    Rural_K    Urban_K  \\\n",
       "Area                                                           \n",
       "Croatia     2020   2103.215   1993.655   1747.114   2368.833   \n",
       "Denmark     2020   2928.360   2897.282    688.897   5107.903   \n",
       "Germany     2020  42213.517  41115.471  18610.145  63930.305   \n",
       "Ireland     2020   2495.802   2450.316   1776.656   3111.336   \n",
       "Luxembourg  2020    313.197    317.202     51.616    552.328   \n",
       "Malta       2020    248.447    266.911     22.830    411.533   \n",
       "Portugal    2020   5438.319   4859.873   3442.606   6775.807   \n",
       "\n",
       "            Variable_Urban_Rural_K    Total_K  \n",
       "Area                                           \n",
       "Croatia                    621.719   4115.947  \n",
       "Denmark                   4419.006   5796.800  \n",
       "Germany                  45320.160  82540.450  \n",
       "Ireland                   1334.680   4887.992  \n",
       "Luxembourg                 500.712    603.944  \n",
       "Malta                      388.703    434.363  \n",
       "Portugal                  3333.201  10218.413  "
      ]
     },
     "execution_count": 103,
     "metadata": {},
     "output_type": "execute_result"
    }
   ],
   "source": [
    "df_locations = df_pop20.groupby(\"Area\", axis =0).sum()\n",
    "df_locations"
   ]
  },
  {
   "cell_type": "code",
   "execution_count": 104,
   "id": "c295623f",
   "metadata": {},
   "outputs": [
    {
     "data": {
      "image/png": "[encoded data removed]",
      "text/plain": [
       "<Figure size 432x288 with 1 Axes>"
      ]
     },
     "metadata": {},
     "output_type": "display_data"
    }
   ],
   "source": [
    "df_locations[\"Variable_Urban_Rural_K\"].plot(kind=\"pie\", radius=1.2, autopct=\"%1.2f%%\", shadow = True)\n",
    "plt.title(\"Variable Urban to Rural\") #Ireland, Creatia, Denmark, Luxembourg, Malta, Portugal, Germany\n",
    "plt.tight_layout()\n",
    "plt.savefig(\"Variable_Urban_And_Rural.png\")"
   ]
  },
  {
   "cell_type": "code",
   "execution_count": 105,
   "id": "275ad119",
   "metadata": {},
   "outputs": [
    {
     "data": {
      "image/png": "[encoded data removed]",
      "text/plain": [
       "<Figure size 432x288 with 1 Axes>"
      ]
     },
     "metadata": {},
     "output_type": "display_data"
    }
   ],
   "source": [
    "df_locations[\"Total_K\"].plot(kind=\"pie\", radius=1.2, autopct=\"%1.2f%%\", shadow = True)\n",
    "plt.title(\"Total Population\") #Ireland, Creatia, Denmark, Luxembourg, Malta, Portugal, Germany\n",
    "plt.tight_layout()\n",
    "plt.savefig(\"Total of Population.png\")"
   ]
  },
  {
   "cell_type": "code",
   "execution_count": 106,
   "id": "1e9e1be9",
   "metadata": {},
   "outputs": [
    {
     "data": {
      "image/png": "[encoded data removed]",
      "text/plain": [
       "<Figure size 576x576 with 1 Axes>"
      ]
     },
     "metadata": {},
     "output_type": "display_data"
    }
   ],
   "source": [
    "# Total Population on Ireland, Creatia, Denmark, Luxembourg, Malta, Portugal, Germany from 2015 to 2020.\n",
    "y = (df_pop20.Total_K)\n",
    "x = (df_pop20.Area)\n",
    "fig = plt.figure()\n",
    "ax = fig.add_subplot()\n",
    "ax.plot(x, y)\n",
    "ap = sns.barplot(x=\"Area\", y=\"Total_K\", data=df_pop20, estimator=sum)\n",
    "ap.set(xlabel = \"Country\", ylabel=\"Thousand\", title = \"Total Population on 2020\")\n",
    "fig.set_size_inches(8,8)\n",
    "plt.savefig(\"Population1.png\")\n",
    "plt.show()\n"
   ]
  },
  {
   "cell_type": "code",
   "execution_count": 108,
   "id": "3efcda40",
   "metadata": {},
   "outputs": [
    {
     "data": {
      "image/png": "[encoded data removed]",
      "text/plain": [
       "<Figure size 576x576 with 1 Axes>"
      ]
     },
     "metadata": {},
     "output_type": "display_data"
    }
   ],
   "source": [
    "# Total Population on Ireland, Creatia, Denmark, Luxembourg, Malta, Portugal, Germany from 2015 to 2020.\n",
    "y = (df_pop20.Variable_Urban_Rural_K)\n",
    "x = (df_pop20.Area)\n",
    "fig = plt.figure()\n",
    "ax = fig.add_subplot()\n",
    "ax.plot(x, y)\n",
    "ap = sns.barplot(x=\"Area\", y=\"Variable_Urban_Rural_K\", data=df_pop20, estimator=sum)\n",
    "ap.set(xlabel = \"Country\", ylabel=\"Thousand\", title = \"Population Variable between Urban and Rural on 2020\")\n",
    "fig.set_size_inches(8,8)\n",
    "plt.savefig(\"Population2.png\")\n",
    "plt.show()"
   ]
  },
  {
   "cell_type": "code",
   "execution_count": 61,
   "id": "542b0233",
   "metadata": {},
   "outputs": [
    {
     "data": {
      "text/html": [
       "<div>\n",
       "<style scoped>\n",
       "    .dataframe tbody tr th:only-of-type {\n",
       "        vertical-align: middle;\n",
       "    }\n",
       "\n",
       "    .dataframe tbody tr th {\n",
       "        vertical-align: top;\n",
       "    }\n",
       "\n",
       "    .dataframe thead th {\n",
       "        text-align: right;\n",
       "    }\n",
       "</style>\n",
       "<table border=\"1\" class=\"dataframe\">\n",
       "  <thead>\n",
       "    <tr style=\"text-align: right;\">\n",
       "      <th></th>\n",
       "      <th>Year</th>\n",
       "      <th>Barley</th>\n",
       "      <th>Meat_Cattle</th>\n",
       "      <th>Meat_Pig</th>\n",
       "      <th>Raw_Milk</th>\n",
       "    </tr>\n",
       "    <tr>\n",
       "      <th>Area</th>\n",
       "      <th></th>\n",
       "      <th></th>\n",
       "      <th></th>\n",
       "      <th></th>\n",
       "      <th></th>\n",
       "    </tr>\n",
       "  </thead>\n",
       "  <tbody>\n",
       "    <tr>\n",
       "      <th>Denmark</th>\n",
       "      <td>12105</td>\n",
       "      <td>4098177</td>\n",
       "      <td>2414314</td>\n",
       "      <td>17072460</td>\n",
       "      <td>13649534</td>\n",
       "    </tr>\n",
       "    <tr>\n",
       "      <th>Germany</th>\n",
       "      <td>12105</td>\n",
       "      <td>10790902</td>\n",
       "      <td>24709264</td>\n",
       "      <td>58128235</td>\n",
       "      <td>72518752</td>\n",
       "    </tr>\n",
       "    <tr>\n",
       "      <th>Ireland</th>\n",
       "      <td>12105</td>\n",
       "      <td>2747335</td>\n",
       "      <td>16143190</td>\n",
       "      <td>5398796</td>\n",
       "      <td>16108881</td>\n",
       "    </tr>\n",
       "    <tr>\n",
       "      <th>Luxembourg</th>\n",
       "      <td>12105</td>\n",
       "      <td>33265</td>\n",
       "      <td>247730</td>\n",
       "      <td>143800</td>\n",
       "      <td>881257</td>\n",
       "    </tr>\n",
       "    <tr>\n",
       "      <th>Malta</th>\n",
       "      <td>6048</td>\n",
       "      <td>6094</td>\n",
       "      <td>10175</td>\n",
       "      <td>37336</td>\n",
       "      <td>82320</td>\n",
       "    </tr>\n",
       "  </tbody>\n",
       "</table>\n",
       "</div>"
      ],
      "text/plain": [
       "             Year    Barley  Meat_Cattle  Meat_Pig  Raw_Milk\n",
       "Area                                                        \n",
       "Denmark     12105   4098177      2414314  17072460  13649534\n",
       "Germany     12105  10790902     24709264  58128235  72518752\n",
       "Ireland     12105   2747335     16143190   5398796  16108881\n",
       "Luxembourg  12105     33265       247730    143800    881257\n",
       "Malta        6048      6094        10175     37336     82320"
      ]
     },
     "execution_count": 61,
     "metadata": {},
     "output_type": "execute_result"
    }
   ],
   "source": [
    "#Ireland, Creatia \"NA\", Denmark, Luxembourg, Malta, Portugal \"NA\", Germany\n",
    "df_production = df_prod_sp.groupby(\"Area\", axis =0).sum()\n",
    "df_production"
   ]
  },
  {
   "cell_type": "code",
   "execution_count": 62,
   "id": "c678d898",
   "metadata": {},
   "outputs": [
    {
     "data": {
      "image/png": "[encoded data removed]",
      "text/plain": [
       "<Figure size 432x288 with 1 Axes>"
      ]
     },
     "metadata": {},
     "output_type": "display_data"
    }
   ],
   "source": [
    "df_production[\"Barley\"].plot(kind=\"pie\", radius=1.2, autopct=\"%1.2f%%\", shadow = True)\n",
    "plt.title(\"Barley Production\") #Ireland, Creatia \"NA\", Denmark, Luxembourg, Malta, Portugal \"NA\", Germany\n",
    "plt.tight_layout()\n",
    "plt.savefig(\"Barley Production1.png\")"
   ]
  },
  {
   "cell_type": "code",
   "execution_count": 63,
   "id": "b8e53677",
   "metadata": {},
   "outputs": [
    {
     "data": {
      "image/png": "[encoded data removed]",
      "text/plain": [
       "<Figure size 432x288 with 1 Axes>"
      ]
     },
     "metadata": {},
     "output_type": "display_data"
    }
   ],
   "source": [
    "df_production[\"Meat_Cattle\"].plot(kind=\"pie\", radius=1.2, autopct=\"%1.2f%%\", shadow = True)\n",
    "plt.title(\"Meat Cattle Production\") #Ireland, Creatia \"NA\", Denmark, Luxembourg, Malta, Portugal \"NA\", Germany\n",
    "plt.tight_layout()\n",
    "plt.savefig(\"Meat Cattle Production1.png\")"
   ]
  },
  {
   "cell_type": "code",
   "execution_count": 64,
   "id": "8d5f5e9e",
   "metadata": {},
   "outputs": [
    {
     "data": {
      "image/png": "[encoded data removed]",
      "text/plain": [
       "<Figure size 432x288 with 1 Axes>"
      ]
     },
     "metadata": {},
     "output_type": "display_data"
    }
   ],
   "source": [
    "df_production[\"Meat_Pig\"].plot(kind=\"pie\", radius=1.2, autopct=\"%1.2f%%\", shadow = True)\n",
    "plt.title(\"Meat Pig Production\") #Ireland, Creatia \"NA\", Denmark, Luxembourg, Malta, Portugal \"NA\", Germany\n",
    "plt.tight_layout()\n",
    "plt.savefig(\"Meat Pig Production1.png\")"
   ]
  },
  {
   "cell_type": "code",
   "execution_count": 65,
   "id": "a23ce32f",
   "metadata": {},
   "outputs": [
    {
     "data": {
      "image/png": "[encoded data removed]",
      "text/plain": [
       "<Figure size 432x288 with 1 Axes>"
      ]
     },
     "metadata": {},
     "output_type": "display_data"
    }
   ],
   "source": [
    "df_production[\"Raw_Milk\"].plot(kind=\"pie\", radius=1.2, autopct=\"%1.2f%%\", shadow = True)\n",
    "plt.title(\"Raw Milk Production\") #Ireland, Creatia \"NA\", Denmark, Luxembourg, Malta, Portugal \"NA\", Germany\n",
    "plt.tight_layout()\n",
    "plt.savefig(\"Raw Milk Production1.png\")"
   ]
  },
  {
   "cell_type": "code",
   "execution_count": 66,
   "id": "19685118",
   "metadata": {},
   "outputs": [
    {
     "data": {
      "image/png": "[encoded data removed]",
      "text/plain": [
       "<Figure size 576x576 with 1 Axes>"
      ]
     },
     "metadata": {},
     "output_type": "display_data"
    }
   ],
   "source": [
    "# Production of Barley on Ireland, \"Creatia NA\", Denmark, Luxembourg, Malta, \"Portugal NA\" and Germany from 2015 to 2020.\n",
    "y = (df_prod_sp.Barley)\n",
    "x = (df_prod_sp.Area)\n",
    "fig = plt.figure()\n",
    "ax = fig.add_subplot()\n",
    "ax.plot(x, y)\n",
    "ap = sns.barplot(x=\"Area\", y=\"Barley\", data=df_prod_sp, estimator=sum)\n",
    "ap.set(xlabel = \"Country\", ylabel=\"Thousand\", title = \"Barley\")\n",
    "fig.set_size_inches(8,8)\n",
    "plt.savefig(\"Production Barley.png\")\n",
    "plt.show()"
   ]
  },
  {
   "cell_type": "code",
   "execution_count": 67,
   "id": "d748931e",
   "metadata": {},
   "outputs": [
    {
     "data": {
      "image/png": "[encoded data removed]",
      "text/plain": [
       "<Figure size 576x576 with 1 Axes>"
      ]
     },
     "metadata": {},
     "output_type": "display_data"
    }
   ],
   "source": [
    "# Production of Meat Cattle on Ireland, \"Creatia NA\", Denmark, Luxembourg, Malta, \"Portugal NA\" and Germany from 2015 to 2020.\n",
    "y = (df_prod_sp.Meat_Cattle)\n",
    "x = (df_prod_sp.Area)\n",
    "fig = plt.figure()\n",
    "ax = fig.add_subplot()\n",
    "ax.plot(x, y)\n",
    "ap = sns.barplot(x=\"Area\", y=\"Meat_Cattle\", data=df_prod_sp, estimator=sum)\n",
    "ap.set(xlabel = \"Country\", ylabel=\"Thousand\", title = \"Meat Cattle\")\n",
    "fig.set_size_inches(8,8)\n",
    "plt.savefig(\"Production Meat Cattle.png\")\n",
    "plt.show()"
   ]
  },
  {
   "cell_type": "code",
   "execution_count": 68,
   "id": "50f17704",
   "metadata": {},
   "outputs": [
    {
     "data": {
      "image/png": "[encoded data removed]",
      "text/plain": [
       "<Figure size 576x576 with 1 Axes>"
      ]
     },
     "metadata": {},
     "output_type": "display_data"
    }
   ],
   "source": [
    "# Production of Meat Pig on Ireland, \"Creatia NA\", Denmark, Luxembourg, Malta, \"Portugal NA\" and Germany from 2015 to 2020.\n",
    "y = (df_prod_sp.Meat_Pig)\n",
    "x = (df_prod_sp.Area)\n",
    "fig = plt.figure()\n",
    "ax = fig.add_subplot()\n",
    "ax.plot(x, y)\n",
    "ap = sns.barplot(x=\"Area\", y=\"Meat_Pig\", data=df_prod_sp, estimator=sum)\n",
    "ap.set(xlabel = \"Country\", ylabel=\"Thousand\", title = \"Meat Pig\")\n",
    "fig.set_size_inches(8,8)\n",
    "plt.savefig(\"Production Meat Pig.png\")\n",
    "plt.show()"
   ]
  },
  {
   "cell_type": "code",
   "execution_count": 69,
   "id": "26ded114",
   "metadata": {},
   "outputs": [
    {
     "data": {
      "image/png": "[encoded data removed]",
      "text/plain": [
       "<Figure size 576x576 with 1 Axes>"
      ]
     },
     "metadata": {},
     "output_type": "display_data"
    }
   ],
   "source": [
    "# Production of Raw Milk on Ireland, \"Creatia NA\", Denmark, Luxembourg, Malta, \"Portugal NA\" and Germany from 2015 to 2020.\n",
    "y = (df_prod_sp.Raw_Milk)\n",
    "x = (df_prod_sp.Area)\n",
    "fig = plt.figure()\n",
    "ax = fig.add_subplot()\n",
    "ax.plot(x, y)\n",
    "ap = sns.barplot(x=\"Area\", y=\"Raw_Milk\", data=df_prod_sp, estimator=sum)\n",
    "ap.set(xlabel = \"Country\", ylabel=\"Thousand\", title = \"Raw Milk\")\n",
    "fig.set_size_inches(8,8)\n",
    "plt.savefig(\"Production Raw Milk.png\")\n",
    "plt.show()"
   ]
  },
  {
   "cell_type": "code",
   "execution_count": 118,
   "id": "685f49bc",
   "metadata": {},
   "outputs": [],
   "source": [
    "%matplotlib inline\n",
    "from preamble import *"
   ]
  },
  {
   "cell_type": "code",
   "execution_count": null,
   "id": "a593dde3",
   "metadata": {},
   "outputs": [],
   "source": []
  }
 ],
 "metadata": {
  "kernelspec": {
   "display_name": "Python 3 (ipykernel)",
   "language": "python",
   "name": "python3"
  },
  "language_info": {
   "codemirror_mode": {
    "name": "ipython",
    "version": 3
   },
   "file_extension": ".py",
   "mimetype": "text/x-python",
   "name": "python",
   "nbconvert_exporter": "python",
   "pygments_lexer": "ipython3",
   "version": "3.9.12"
  }
 },
 "nbformat": 4,
 "nbformat_minor": 5
}

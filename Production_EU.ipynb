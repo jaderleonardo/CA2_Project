{
 "cells": [
  {
   "cell_type": "code",
   "execution_count": 1,
   "id": "1fb1ab1d",
   "metadata": {},
   "outputs": [],
   "source": [
    "# Importing the libraries\n",
    "\n",
    "import pandas as pd\n",
    "import numpy as np\n",
    "import math as mt\n",
    "import seaborn as sns #visualisation\n",
    "import matplotlib.pyplot as plt # visualisation\n",
    "plt.style.use(\"seaborn-whitegrid\")\n",
    "import warnings            \n",
    "warnings.filterwarnings(\"ignore\") # We can suppress the warnings\n",
    "#calculation\n",
    "import statistics as stats \n",
    "from statsmodels.stats import weightstats\n",
    "import scipy.stats as pystats \n"
   ]
  },
  {
   "cell_type": "code",
   "execution_count": 2,
   "id": "b254dbcf",
   "metadata": {},
   "outputs": [],
   "source": [
    "# Importing the dataset Production\n",
    "\n",
    "df1 =pd.read_csv(\"1.Barley.csv\")\n",
    "df2 =pd.read_csv(\"2.Meat_Cattle.csv\")\n",
    "df3 =pd.read_csv(\"3.Meat_Pig.csv\")\n",
    "df4 =pd.read_csv(\"4.Raw_Milk.csv\")\n"
   ]
  },
  {
   "cell_type": "code",
   "execution_count": 3,
   "id": "aeecc143",
   "metadata": {},
   "outputs": [],
   "source": [
    "# change names on datasets\n",
    "\n",
    "df1 = df1.rename(columns = {\"Value\":\"Barley\"})\n",
    "df2 = df2.rename(columns = {\"Value\":\"Meat Cattle\"})\n",
    "df3 = df3.rename(columns = {\"Value\":\"Meat Pig\"})\n",
    "df4 = df4.rename(columns = {\"Value\":\"Raw Milk\"})\n"
   ]
  },
  {
   "cell_type": "code",
   "execution_count": 4,
   "id": "5e3e7641",
   "metadata": {},
   "outputs": [],
   "source": [
    "#Created a join tables\n",
    "df_m1 = pd.merge(df1,df2, how='inner', on=[\"Area\",\"Year\"],suffixes=(\"_df1\", \"_df2\"))\n",
    "df_m2 = pd.merge(df3,df4, how='inner', on=[\"Area\",\"Year\"],suffixes=(\"_df3\", \"_df4\"))\n",
    "df_prod = pd.merge(df_m1,df_m2, how='inner', on=[\"Area\",\"Year\"])"
   ]
  },
  {
   "cell_type": "code",
   "execution_count": 5,
   "id": "10677f25",
   "metadata": {},
   "outputs": [
    {
     "name": "stdout",
     "output_type": "stream",
     "text": [
      "      Area  Year  Barley  Meat Cattle  Meat Pig  Raw Milk\n",
      "0  Austria  2015  109982       975437    844993   1322196\n",
      "1  Austria  2016   97002       944660    854356   1256018\n",
      "2  Austria  2017  102480       991803    953570   1564446\n",
      "3  Austria  2018  111802      1069738    902580   1823111\n",
      "4  Austria  2019  114030       958769    994757   1566252\n"
     ]
    }
   ],
   "source": [
    "# Clean the dataset, deleting useless columns for ou analyse\n",
    "\n",
    "df_prod.drop([\"Domain_Code_df1\",\"Domain_Code_df2\",\"Domain_Code_df3\",\"Domain_Code_df4\"], axis=1, inplace=True)\n",
    "df_prod.drop([\"Domain_df1\",\"Domain_df2\",\"Domain_df3\",\"Domain_df4\"], axis=1, inplace=True)\n",
    "df_prod.drop([\"Area_Code_(M49)_df1\",\"Area_Code_(M49)_df2\",\"Area_Code_(M49)_df3\",\"Area_Code_(M49)_df4\"], axis=1, inplace=True)\n",
    "df_prod.drop([\"Element_Code_df1\",\"Element_Code_df2\",\"Element_Code_df3\",\"Element_Code_df4\"], axis=1, inplace=True)\n",
    "df_prod.drop([\"Element_df1\",\"Element_df2\",\"Element_df3\",\"Element_df4\"], axis=1, inplace=True)\n",
    "df_prod.drop([\"Item_Code_(CPC)_df1\",\"Item_Code_(CPC)_df2\",\"Item_Code_(CPC)_df3\",\"Item_Code_(CPC)_df4\"], axis=1, inplace=True)\n",
    "df_prod.drop([\"Item_df1\",\"Item_df2\",\"Item_df3\",\"Item_df4\"], axis=1, inplace=True)\n",
    "df_prod.drop([\"Year_Code_df1\",\"Year_Code_df2\",\"Year_Code_df3\",\"Year_Code_df4\"], axis=1, inplace=True)\n",
    "df_prod.drop([\"Unit_df1\",\"Unit_df2\",\"Unit_df3\",\"Unit_df4\"], axis=1, inplace=True)\n",
    "df_prod.drop([\"Flag_df1\",\"Flag_df2\",\"Flag_df3\",\"Flag_df4\"], axis=1, inplace=True)\n",
    "df_prod.drop([\"Flag_Description_df1\",\"Flag_Description_df2\",\"Flag_Description_df3\",\"Flag_Description_df4\"], axis=1, inplace=True)\n",
    "\n",
    "# Prints out the first few rows\n",
    "print(df_prod.head())"
   ]
  },
  {
   "cell_type": "code",
   "execution_count": 6,
   "id": "bd904d9a",
   "metadata": {},
   "outputs": [],
   "source": [
    "#Save new data frame as extension.CSV\n",
    "df_prod.to_csv(\"Consolidated Production.csv\")"
   ]
  },
  {
   "cell_type": "code",
   "execution_count": 7,
   "id": "c7e9cf86",
   "metadata": {},
   "outputs": [],
   "source": [
    "df_price =pd.read_csv(\"Consolidated Price.csv\")"
   ]
  },
  {
   "cell_type": "code",
   "execution_count": 8,
   "id": "e2c530b2",
   "metadata": {},
   "outputs": [],
   "source": [
    "df_price = df_price.loc[:, ~df_price.columns.str.contains('^Unnamed')]"
   ]
  },
  {
   "cell_type": "code",
   "execution_count": 9,
   "id": "8e82b656",
   "metadata": {},
   "outputs": [
    {
     "data": {
      "text/html": [
       "<div>\n",
       "<style scoped>\n",
       "    .dataframe tbody tr th:only-of-type {\n",
       "        vertical-align: middle;\n",
       "    }\n",
       "\n",
       "    .dataframe tbody tr th {\n",
       "        vertical-align: top;\n",
       "    }\n",
       "\n",
       "    .dataframe thead th {\n",
       "        text-align: right;\n",
       "    }\n",
       "</style>\n",
       "<table border=\"1\" class=\"dataframe\">\n",
       "  <thead>\n",
       "    <tr style=\"text-align: right;\">\n",
       "      <th></th>\n",
       "      <th>Area</th>\n",
       "      <th>Year</th>\n",
       "      <th>Barley</th>\n",
       "      <th>Meat Cattle</th>\n",
       "      <th>Meat Pig</th>\n",
       "      <th>Raw Milk</th>\n",
       "    </tr>\n",
       "  </thead>\n",
       "  <tbody>\n",
       "    <tr>\n",
       "      <th>0</th>\n",
       "      <td>Austria</td>\n",
       "      <td>2015</td>\n",
       "      <td>130.9</td>\n",
       "      <td>4247.5</td>\n",
       "      <td>1597.0</td>\n",
       "      <td>373.7</td>\n",
       "    </tr>\n",
       "    <tr>\n",
       "      <th>1</th>\n",
       "      <td>Austria</td>\n",
       "      <td>2016</td>\n",
       "      <td>112.8</td>\n",
       "      <td>4137.2</td>\n",
       "      <td>1659.3</td>\n",
       "      <td>346.2</td>\n",
       "    </tr>\n",
       "    <tr>\n",
       "      <th>2</th>\n",
       "      <td>Austria</td>\n",
       "      <td>2017</td>\n",
       "      <td>131.0</td>\n",
       "      <td>4371.9</td>\n",
       "      <td>1875.3</td>\n",
       "      <td>421.4</td>\n",
       "    </tr>\n",
       "    <tr>\n",
       "      <th>3</th>\n",
       "      <td>Austria</td>\n",
       "      <td>2018</td>\n",
       "      <td>161.8</td>\n",
       "      <td>4582.1</td>\n",
       "      <td>1771.4</td>\n",
       "      <td>477.1</td>\n",
       "    </tr>\n",
       "    <tr>\n",
       "      <th>4</th>\n",
       "      <td>Austria</td>\n",
       "      <td>2019</td>\n",
       "      <td>137.7</td>\n",
       "      <td>4175.6</td>\n",
       "      <td>1981.5</td>\n",
       "      <td>414.2</td>\n",
       "    </tr>\n",
       "    <tr>\n",
       "      <th>...</th>\n",
       "      <td>...</td>\n",
       "      <td>...</td>\n",
       "      <td>...</td>\n",
       "      <td>...</td>\n",
       "      <td>...</td>\n",
       "      <td>...</td>\n",
       "    </tr>\n",
       "    <tr>\n",
       "      <th>75</th>\n",
       "      <td>Spain</td>\n",
       "      <td>2016</td>\n",
       "      <td>167.4</td>\n",
       "      <td>2650.9</td>\n",
       "      <td>1260.5</td>\n",
       "      <td>331.7</td>\n",
       "    </tr>\n",
       "    <tr>\n",
       "      <th>76</th>\n",
       "      <td>Spain</td>\n",
       "      <td>2017</td>\n",
       "      <td>186.5</td>\n",
       "      <td>2808.2</td>\n",
       "      <td>1423.3</td>\n",
       "      <td>360.1</td>\n",
       "    </tr>\n",
       "    <tr>\n",
       "      <th>77</th>\n",
       "      <td>Spain</td>\n",
       "      <td>2018</td>\n",
       "      <td>203.8</td>\n",
       "      <td>2776.2</td>\n",
       "      <td>1351.5</td>\n",
       "      <td>366.2</td>\n",
       "    </tr>\n",
       "    <tr>\n",
       "      <th>78</th>\n",
       "      <td>Spain</td>\n",
       "      <td>2019</td>\n",
       "      <td>196.0</td>\n",
       "      <td>2537.7</td>\n",
       "      <td>1509.2</td>\n",
       "      <td>350.6</td>\n",
       "    </tr>\n",
       "    <tr>\n",
       "      <th>79</th>\n",
       "      <td>Spain</td>\n",
       "      <td>2020</td>\n",
       "      <td>184.1</td>\n",
       "      <td>2494.2</td>\n",
       "      <td>1485.1</td>\n",
       "      <td>365.6</td>\n",
       "    </tr>\n",
       "  </tbody>\n",
       "</table>\n",
       "<p>80 rows × 6 columns</p>\n",
       "</div>"
      ],
      "text/plain": [
       "       Area  Year  Barley  Meat Cattle  Meat Pig  Raw Milk\n",
       "0   Austria  2015   130.9       4247.5    1597.0     373.7\n",
       "1   Austria  2016   112.8       4137.2    1659.3     346.2\n",
       "2   Austria  2017   131.0       4371.9    1875.3     421.4\n",
       "3   Austria  2018   161.8       4582.1    1771.4     477.1\n",
       "4   Austria  2019   137.7       4175.6    1981.5     414.2\n",
       "..      ...   ...     ...          ...       ...       ...\n",
       "75    Spain  2016   167.4       2650.9    1260.5     331.7\n",
       "76    Spain  2017   186.5       2808.2    1423.3     360.1\n",
       "77    Spain  2018   203.8       2776.2    1351.5     366.2\n",
       "78    Spain  2019   196.0       2537.7    1509.2     350.6\n",
       "79    Spain  2020   184.1       2494.2    1485.1     365.6\n",
       "\n",
       "[80 rows x 6 columns]"
      ]
     },
     "execution_count": 9,
     "metadata": {},
     "output_type": "execute_result"
    }
   ],
   "source": [
    "df_price"
   ]
  },
  {
   "cell_type": "code",
   "execution_count": 10,
   "id": "f555e14e",
   "metadata": {},
   "outputs": [
    {
     "data": {
      "text/html": [
       "<div>\n",
       "<style scoped>\n",
       "    .dataframe tbody tr th:only-of-type {\n",
       "        vertical-align: middle;\n",
       "    }\n",
       "\n",
       "    .dataframe tbody tr th {\n",
       "        vertical-align: top;\n",
       "    }\n",
       "\n",
       "    .dataframe thead th {\n",
       "        text-align: right;\n",
       "    }\n",
       "</style>\n",
       "<table border=\"1\" class=\"dataframe\">\n",
       "  <thead>\n",
       "    <tr style=\"text-align: right;\">\n",
       "      <th></th>\n",
       "      <th>Area</th>\n",
       "      <th>Year</th>\n",
       "      <th>Barley</th>\n",
       "      <th>Meat Cattle</th>\n",
       "      <th>Meat Pig</th>\n",
       "      <th>Raw Milk</th>\n",
       "    </tr>\n",
       "  </thead>\n",
       "  <tbody>\n",
       "    <tr>\n",
       "      <th>0</th>\n",
       "      <td>Austria</td>\n",
       "      <td>2015</td>\n",
       "      <td>109982</td>\n",
       "      <td>975437</td>\n",
       "      <td>844993</td>\n",
       "      <td>1322196</td>\n",
       "    </tr>\n",
       "    <tr>\n",
       "      <th>1</th>\n",
       "      <td>Austria</td>\n",
       "      <td>2016</td>\n",
       "      <td>97002</td>\n",
       "      <td>944660</td>\n",
       "      <td>854356</td>\n",
       "      <td>1256018</td>\n",
       "    </tr>\n",
       "    <tr>\n",
       "      <th>2</th>\n",
       "      <td>Austria</td>\n",
       "      <td>2017</td>\n",
       "      <td>102480</td>\n",
       "      <td>991803</td>\n",
       "      <td>953570</td>\n",
       "      <td>1564446</td>\n",
       "    </tr>\n",
       "    <tr>\n",
       "      <th>3</th>\n",
       "      <td>Austria</td>\n",
       "      <td>2018</td>\n",
       "      <td>111802</td>\n",
       "      <td>1069738</td>\n",
       "      <td>902580</td>\n",
       "      <td>1823111</td>\n",
       "    </tr>\n",
       "    <tr>\n",
       "      <th>4</th>\n",
       "      <td>Austria</td>\n",
       "      <td>2019</td>\n",
       "      <td>114030</td>\n",
       "      <td>958769</td>\n",
       "      <td>994757</td>\n",
       "      <td>1566252</td>\n",
       "    </tr>\n",
       "    <tr>\n",
       "      <th>...</th>\n",
       "      <td>...</td>\n",
       "      <td>...</td>\n",
       "      <td>...</td>\n",
       "      <td>...</td>\n",
       "      <td>...</td>\n",
       "      <td>...</td>\n",
       "    </tr>\n",
       "    <tr>\n",
       "      <th>117</th>\n",
       "      <td>Sweden</td>\n",
       "      <td>2016</td>\n",
       "      <td>210560</td>\n",
       "      <td>361123</td>\n",
       "      <td>408312</td>\n",
       "      <td>1031884</td>\n",
       "    </tr>\n",
       "    <tr>\n",
       "      <th>118</th>\n",
       "      <td>Sweden</td>\n",
       "      <td>2017</td>\n",
       "      <td>259179</td>\n",
       "      <td>365048</td>\n",
       "      <td>411678</td>\n",
       "      <td>1263871</td>\n",
       "    </tr>\n",
       "    <tr>\n",
       "      <th>119</th>\n",
       "      <td>Sweden</td>\n",
       "      <td>2018</td>\n",
       "      <td>245885</td>\n",
       "      <td>351124</td>\n",
       "      <td>400078</td>\n",
       "      <td>1273021</td>\n",
       "    </tr>\n",
       "    <tr>\n",
       "      <th>120</th>\n",
       "      <td>Sweden</td>\n",
       "      <td>2019</td>\n",
       "      <td>223513</td>\n",
       "      <td>324760</td>\n",
       "      <td>363273</td>\n",
       "      <td>1131124</td>\n",
       "    </tr>\n",
       "    <tr>\n",
       "      <th>121</th>\n",
       "      <td>Sweden</td>\n",
       "      <td>2020</td>\n",
       "      <td>232358</td>\n",
       "      <td>332287</td>\n",
       "      <td>383257</td>\n",
       "      <td>1194857</td>\n",
       "    </tr>\n",
       "  </tbody>\n",
       "</table>\n",
       "<p>122 rows × 6 columns</p>\n",
       "</div>"
      ],
      "text/plain": [
       "        Area  Year  Barley  Meat Cattle  Meat Pig  Raw Milk\n",
       "0    Austria  2015  109982       975437    844993   1322196\n",
       "1    Austria  2016   97002       944660    854356   1256018\n",
       "2    Austria  2017  102480       991803    953570   1564446\n",
       "3    Austria  2018  111802      1069738    902580   1823111\n",
       "4    Austria  2019  114030       958769    994757   1566252\n",
       "..       ...   ...     ...          ...       ...       ...\n",
       "117   Sweden  2016  210560       361123    408312   1031884\n",
       "118   Sweden  2017  259179       365048    411678   1263871\n",
       "119   Sweden  2018  245885       351124    400078   1273021\n",
       "120   Sweden  2019  223513       324760    363273   1131124\n",
       "121   Sweden  2020  232358       332287    383257   1194857\n",
       "\n",
       "[122 rows x 6 columns]"
      ]
     },
     "execution_count": 10,
     "metadata": {},
     "output_type": "execute_result"
    }
   ],
   "source": [
    "df_prod"
   ]
  },
  {
   "cell_type": "markdown",
   "id": "05456fd5",
   "metadata": {},
   "source": [
    "# T-Test, one population"
   ]
  },
  {
   "cell_type": "markdown",
   "id": "cbf9a957",
   "metadata": {},
   "source": [
    "We are analyzing the price applied for \"Barley\" from ireland compared to other european union countries."
   ]
  },
  {
   "cell_type": "code",
   "execution_count": 11,
   "id": "4bc6eedb",
   "metadata": {},
   "outputs": [
    {
     "data": {
      "text/plain": [
       "0     130.9\n",
       "1     112.8\n",
       "2     131.0\n",
       "3     161.8\n",
       "4     137.7\n",
       "      ...  \n",
       "75    167.4\n",
       "76    186.5\n",
       "77    203.8\n",
       "78    196.0\n",
       "79    184.1\n",
       "Name: Barley, Length: 80, dtype: float64"
      ]
     },
     "execution_count": 11,
     "metadata": {},
     "output_type": "execute_result"
    }
   ],
   "source": [
    "# Define the variable \n",
    "#x = salary of the group (in euros)\n",
    "X = df_price[\"Barley\"]; X"
   ]
  },
  {
   "cell_type": "code",
   "execution_count": 12,
   "id": "6b2f8c67",
   "metadata": {},
   "outputs": [
    {
     "data": {
      "text/plain": [
       "Ttest_1sampResult(statistic=2.2702551286312653, pvalue=0.025916687004668138)"
      ]
     },
     "execution_count": 12,
     "metadata": {},
     "output_type": "execute_result"
    }
   ],
   "source": [
    "#H0 : u = 166\n",
    "#H1 : u =! 166\n",
    "#stats.ttest_1samp(X,mu of H0)\n",
    "pystats.ttest_1samp(X,166)"
   ]
  },
  {
   "cell_type": "code",
   "execution_count": 13,
   "id": "a270e32d",
   "metadata": {},
   "outputs": [
    {
     "data": {
      "text/plain": [
       "0.012958343502334069"
      ]
     },
     "execution_count": 13,
     "metadata": {},
     "output_type": "execute_result"
    }
   ],
   "source": [
    "#H1 : u > 166\n",
    "pystats.t.sf(2.2702551286312653, 79)"
   ]
  },
  {
   "cell_type": "code",
   "execution_count": null,
   "id": "4433e716",
   "metadata": {},
   "outputs": [],
   "source": []
  }
 ],
 "metadata": {
  "kernelspec": {
   "display_name": "Python 3 (ipykernel)",
   "language": "python",
   "name": "python3"
  },
  "language_info": {
   "codemirror_mode": {
    "name": "ipython",
    "version": 3
   },
   "file_extension": ".py",
   "mimetype": "text/x-python",
   "name": "python",
   "nbconvert_exporter": "python",
   "pygments_lexer": "ipython3",
   "version": "3.9.12"
  }
 },
 "nbformat": 4,
 "nbformat_minor": 5
}

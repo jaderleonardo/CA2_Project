{
 "cells": [
  {
   "cell_type": "code",
   "execution_count": 1,
   "id": "67fecd3d",
   "metadata": {},
   "outputs": [],
   "source": [
    "# Importing the libraries\n",
    "\n",
    "import pandas as pd\n",
    "import numpy as np\n",
    "import math as mt\n",
    "import seaborn as sns #visualisation\n",
    "import matplotlib.pyplot as plt # visualisation\n",
    "plt.style.use(\"seaborn-whitegrid\")\n",
    "import warnings            \n",
    "warnings.filterwarnings(\"ignore\") # We can suppress the warnings\n",
    "#calculation\n",
    "import statistics as stats \n",
    "from statsmodels.stats import weightstats\n",
    "import scipy.stats as pystats \n"
   ]
  },
  {
   "cell_type": "code",
   "execution_count": 2,
   "id": "5dcb25da",
   "metadata": {},
   "outputs": [],
   "source": [
    "# Importing the dataset Production\n",
    "\n",
    "df1 =pd.read_csv(\"1.Barley.csv\")\n",
    "df2 =pd.read_csv(\"2.Meat_Cattle.csv\")\n",
    "df3 =pd.read_csv(\"3.Meat_Pig.csv\")\n",
    "df4 =pd.read_csv(\"4.Raw_Milk.csv\")\n"
   ]
  },
  {
   "cell_type": "code",
   "execution_count": 3,
   "id": "9ee66b1e",
   "metadata": {},
   "outputs": [],
   "source": [
    "# change names on datasets\n",
    "\n",
    "df1 = df1.rename(columns = {\"Value\":\"Barley\"})\n",
    "df2 = df2.rename(columns = {\"Value\":\"Meat Cattle\"})\n",
    "df3 = df3.rename(columns = {\"Value\":\"Meat Pig\"})\n",
    "df4 = df4.rename(columns = {\"Value\":\"Raw Milk\"})\n"
   ]
  },
  {
   "cell_type": "code",
   "execution_count": 4,
   "id": "6385abab",
   "metadata": {},
   "outputs": [],
   "source": [
    "#Created a join tables\n",
    "df_m1 = pd.merge(df1,df2, how='inner', on=[\"Area\",\"Year\"],suffixes=(\"_df1\", \"_df2\"))\n",
    "df_m2 = pd.merge(df3,df4, how='inner', on=[\"Area\",\"Year\"],suffixes=(\"_df3\", \"_df4\"))\n",
    "df_prod = pd.merge(df_m1,df_m2, how='inner', on=[\"Area\",\"Year\"])"
   ]
  },
  {
   "cell_type": "code",
   "execution_count": 5,
   "id": "807f16f0",
   "metadata": {},
   "outputs": [
    {
     "name": "stdout",
     "output_type": "stream",
     "text": [
      "      Area  Year  Barley  Meat Cattle  Meat Pig  Raw Milk\n",
      "0  Austria  2015  109982       975437    844993   1322196\n",
      "1  Austria  2016   97002       944660    854356   1256018\n",
      "2  Austria  2017  102480       991803    953570   1564446\n",
      "3  Austria  2018  111802      1069738    902580   1823111\n",
      "4  Austria  2019  114030       958769    994757   1566252\n"
     ]
    }
   ],
   "source": [
    "# Clean the dataset, deleting useless columns for ou analyse\n",
    "\n",
    "df_prod.drop([\"Domain_Code_df1\",\"Domain_Code_df2\",\"Domain_Code_df3\",\"Domain_Code_df4\"], axis=1, inplace=True)\n",
    "df_prod.drop([\"Domain_df1\",\"Domain_df2\",\"Domain_df3\",\"Domain_df4\"], axis=1, inplace=True)\n",
    "df_prod.drop([\"Area_Code_(M49)_df1\",\"Area_Code_(M49)_df2\",\"Area_Code_(M49)_df3\",\"Area_Code_(M49)_df4\"], axis=1, inplace=True)\n",
    "df_prod.drop([\"Element_Code_df1\",\"Element_Code_df2\",\"Element_Code_df3\",\"Element_Code_df4\"], axis=1, inplace=True)\n",
    "df_prod.drop([\"Element_df1\",\"Element_df2\",\"Element_df3\",\"Element_df4\"], axis=1, inplace=True)\n",
    "df_prod.drop([\"Item_Code_(CPC)_df1\",\"Item_Code_(CPC)_df2\",\"Item_Code_(CPC)_df3\",\"Item_Code_(CPC)_df4\"], axis=1, inplace=True)\n",
    "df_prod.drop([\"Item_df1\",\"Item_df2\",\"Item_df3\",\"Item_df4\"], axis=1, inplace=True)\n",
    "df_prod.drop([\"Year_Code_df1\",\"Year_Code_df2\",\"Year_Code_df3\",\"Year_Code_df4\"], axis=1, inplace=True)\n",
    "df_prod.drop([\"Unit_df1\",\"Unit_df2\",\"Unit_df3\",\"Unit_df4\"], axis=1, inplace=True)\n",
    "df_prod.drop([\"Flag_df1\",\"Flag_df2\",\"Flag_df3\",\"Flag_df4\"], axis=1, inplace=True)\n",
    "df_prod.drop([\"Flag_Description_df1\",\"Flag_Description_df2\",\"Flag_Description_df3\",\"Flag_Description_df4\"], axis=1, inplace=True)\n",
    "\n",
    "# Prints out the first few rows\n",
    "print(df_prod.head())"
   ]
  },
  {
   "cell_type": "code",
   "execution_count": 6,
   "id": "0d5c34ca",
   "metadata": {},
   "outputs": [],
   "source": [
    "#Save new data frame as extension.CSV\n",
    "#df_prod.to_csv(\"Consolidated Production.csv\")"
   ]
  },
  {
   "cell_type": "code",
   "execution_count": 7,
   "id": "56fe93a1",
   "metadata": {},
   "outputs": [],
   "source": [
    "# Importing the dataset Price\n",
    "df_pop =pd.read_csv(\"Consolidated Population.csv\")"
   ]
  },
  {
   "cell_type": "code",
   "execution_count": 10,
   "id": "0e73a945",
   "metadata": {},
   "outputs": [],
   "source": [
    "#Removed the column \"Unnamed\"\n",
    "df_pop = df_pop.loc[:, ~df_pop.columns.str.contains('^Unnamed')]"
   ]
  },
  {
   "cell_type": "code",
   "execution_count": 11,
   "id": "08e1f9cf",
   "metadata": {},
   "outputs": [
    {
     "data": {
      "text/html": [
       "<div>\n",
       "<style scoped>\n",
       "    .dataframe tbody tr th:only-of-type {\n",
       "        vertical-align: middle;\n",
       "    }\n",
       "\n",
       "    .dataframe tbody tr th {\n",
       "        vertical-align: top;\n",
       "    }\n",
       "\n",
       "    .dataframe thead th {\n",
       "        text-align: right;\n",
       "    }\n",
       "</style>\n",
       "<table border=\"1\" class=\"dataframe\">\n",
       "  <thead>\n",
       "    <tr style=\"text-align: right;\">\n",
       "      <th></th>\n",
       "      <th>Area</th>\n",
       "      <th>Year</th>\n",
       "      <th>Famale_K</th>\n",
       "      <th>Male_K</th>\n",
       "      <th>Rural_K</th>\n",
       "      <th>Urban_K</th>\n",
       "    </tr>\n",
       "  </thead>\n",
       "  <tbody>\n",
       "    <tr>\n",
       "      <th>0</th>\n",
       "      <td>Austria</td>\n",
       "      <td>2015</td>\n",
       "      <td>4406.012</td>\n",
       "      <td>4236.408</td>\n",
       "      <td>3669.727</td>\n",
       "      <td>5008.930</td>\n",
       "    </tr>\n",
       "    <tr>\n",
       "      <th>1</th>\n",
       "      <td>Austria</td>\n",
       "      <td>2016</td>\n",
       "      <td>4444.016</td>\n",
       "      <td>4292.470</td>\n",
       "      <td>3667.377</td>\n",
       "      <td>5044.760</td>\n",
       "    </tr>\n",
       "    <tr>\n",
       "      <th>2</th>\n",
       "      <td>Austria</td>\n",
       "      <td>2017</td>\n",
       "      <td>4472.011</td>\n",
       "      <td>4325.485</td>\n",
       "      <td>3660.707</td>\n",
       "      <td>5074.746</td>\n",
       "    </tr>\n",
       "    <tr>\n",
       "      <th>3</th>\n",
       "      <td>Austria</td>\n",
       "      <td>2018</td>\n",
       "      <td>4492.710</td>\n",
       "      <td>4347.802</td>\n",
       "      <td>3649.748</td>\n",
       "      <td>5102.072</td>\n",
       "    </tr>\n",
       "    <tr>\n",
       "      <th>4</th>\n",
       "      <td>Austria</td>\n",
       "      <td>2019</td>\n",
       "      <td>4511.992</td>\n",
       "      <td>4367.948</td>\n",
       "      <td>3636.627</td>\n",
       "      <td>5129.574</td>\n",
       "    </tr>\n",
       "    <tr>\n",
       "      <th>...</th>\n",
       "      <td>...</td>\n",
       "      <td>...</td>\n",
       "      <td>...</td>\n",
       "      <td>...</td>\n",
       "      <td>...</td>\n",
       "      <td>...</td>\n",
       "    </tr>\n",
       "    <tr>\n",
       "      <th>157</th>\n",
       "      <td>Sweden</td>\n",
       "      <td>2016</td>\n",
       "      <td>4964.310</td>\n",
       "      <td>4989.007</td>\n",
       "      <td>1293.399</td>\n",
       "      <td>8544.134</td>\n",
       "    </tr>\n",
       "    <tr>\n",
       "      <th>158</th>\n",
       "      <td>Sweden</td>\n",
       "      <td>2017</td>\n",
       "      <td>5010.970</td>\n",
       "      <td>5047.220</td>\n",
       "      <td>1273.943</td>\n",
       "      <td>8636.758</td>\n",
       "    </tr>\n",
       "    <tr>\n",
       "      <th>159</th>\n",
       "      <td>Sweden</td>\n",
       "      <td>2018</td>\n",
       "      <td>5057.292</td>\n",
       "      <td>5105.006</td>\n",
       "      <td>1254.718</td>\n",
       "      <td>8727.991</td>\n",
       "    </tr>\n",
       "    <tr>\n",
       "      <th>160</th>\n",
       "      <td>Sweden</td>\n",
       "      <td>2019</td>\n",
       "      <td>5104.556</td>\n",
       "      <td>5163.366</td>\n",
       "      <td>1235.720</td>\n",
       "      <td>8817.415</td>\n",
       "    </tr>\n",
       "    <tr>\n",
       "      <th>161</th>\n",
       "      <td>Sweden</td>\n",
       "      <td>2020</td>\n",
       "      <td>5149.922</td>\n",
       "      <td>5219.047</td>\n",
       "      <td>1216.924</td>\n",
       "      <td>8904.762</td>\n",
       "    </tr>\n",
       "  </tbody>\n",
       "</table>\n",
       "<p>162 rows × 6 columns</p>\n",
       "</div>"
      ],
      "text/plain": [
       "        Area  Year  Famale_K     Male_K   Rural_K   Urban_K\n",
       "0    Austria  2015   4406.012  4236.408  3669.727  5008.930\n",
       "1    Austria  2016   4444.016  4292.470  3667.377  5044.760\n",
       "2    Austria  2017   4472.011  4325.485  3660.707  5074.746\n",
       "3    Austria  2018   4492.710  4347.802  3649.748  5102.072\n",
       "4    Austria  2019   4511.992  4367.948  3636.627  5129.574\n",
       "..       ...   ...        ...       ...       ...       ...\n",
       "157   Sweden  2016   4964.310  4989.007  1293.399  8544.134\n",
       "158   Sweden  2017   5010.970  5047.220  1273.943  8636.758\n",
       "159   Sweden  2018   5057.292  5105.006  1254.718  8727.991\n",
       "160   Sweden  2019   5104.556  5163.366  1235.720  8817.415\n",
       "161   Sweden  2020   5149.922  5219.047  1216.924  8904.762\n",
       "\n",
       "[162 rows x 6 columns]"
      ]
     },
     "execution_count": 11,
     "metadata": {},
     "output_type": "execute_result"
    }
   ],
   "source": [
    "#full print\n",
    "df_pop"
   ]
  },
  {
   "cell_type": "code",
   "execution_count": 12,
   "id": "a1eace61",
   "metadata": {},
   "outputs": [
    {
     "data": {
      "text/html": [
       "<div>\n",
       "<style scoped>\n",
       "    .dataframe tbody tr th:only-of-type {\n",
       "        vertical-align: middle;\n",
       "    }\n",
       "\n",
       "    .dataframe tbody tr th {\n",
       "        vertical-align: top;\n",
       "    }\n",
       "\n",
       "    .dataframe thead th {\n",
       "        text-align: right;\n",
       "    }\n",
       "</style>\n",
       "<table border=\"1\" class=\"dataframe\">\n",
       "  <thead>\n",
       "    <tr style=\"text-align: right;\">\n",
       "      <th></th>\n",
       "      <th>Area</th>\n",
       "      <th>Year</th>\n",
       "      <th>Barley</th>\n",
       "      <th>Meat Cattle</th>\n",
       "      <th>Meat Pig</th>\n",
       "      <th>Raw Milk</th>\n",
       "    </tr>\n",
       "  </thead>\n",
       "  <tbody>\n",
       "    <tr>\n",
       "      <th>0</th>\n",
       "      <td>Austria</td>\n",
       "      <td>2015</td>\n",
       "      <td>109982</td>\n",
       "      <td>975437</td>\n",
       "      <td>844993</td>\n",
       "      <td>1322196</td>\n",
       "    </tr>\n",
       "    <tr>\n",
       "      <th>1</th>\n",
       "      <td>Austria</td>\n",
       "      <td>2016</td>\n",
       "      <td>97002</td>\n",
       "      <td>944660</td>\n",
       "      <td>854356</td>\n",
       "      <td>1256018</td>\n",
       "    </tr>\n",
       "    <tr>\n",
       "      <th>2</th>\n",
       "      <td>Austria</td>\n",
       "      <td>2017</td>\n",
       "      <td>102480</td>\n",
       "      <td>991803</td>\n",
       "      <td>953570</td>\n",
       "      <td>1564446</td>\n",
       "    </tr>\n",
       "    <tr>\n",
       "      <th>3</th>\n",
       "      <td>Austria</td>\n",
       "      <td>2018</td>\n",
       "      <td>111802</td>\n",
       "      <td>1069738</td>\n",
       "      <td>902580</td>\n",
       "      <td>1823111</td>\n",
       "    </tr>\n",
       "    <tr>\n",
       "      <th>4</th>\n",
       "      <td>Austria</td>\n",
       "      <td>2019</td>\n",
       "      <td>114030</td>\n",
       "      <td>958769</td>\n",
       "      <td>994757</td>\n",
       "      <td>1566252</td>\n",
       "    </tr>\n",
       "    <tr>\n",
       "      <th>...</th>\n",
       "      <td>...</td>\n",
       "      <td>...</td>\n",
       "      <td>...</td>\n",
       "      <td>...</td>\n",
       "      <td>...</td>\n",
       "      <td>...</td>\n",
       "    </tr>\n",
       "    <tr>\n",
       "      <th>117</th>\n",
       "      <td>Sweden</td>\n",
       "      <td>2016</td>\n",
       "      <td>210560</td>\n",
       "      <td>361123</td>\n",
       "      <td>408312</td>\n",
       "      <td>1031884</td>\n",
       "    </tr>\n",
       "    <tr>\n",
       "      <th>118</th>\n",
       "      <td>Sweden</td>\n",
       "      <td>2017</td>\n",
       "      <td>259179</td>\n",
       "      <td>365048</td>\n",
       "      <td>411678</td>\n",
       "      <td>1263871</td>\n",
       "    </tr>\n",
       "    <tr>\n",
       "      <th>119</th>\n",
       "      <td>Sweden</td>\n",
       "      <td>2018</td>\n",
       "      <td>245885</td>\n",
       "      <td>351124</td>\n",
       "      <td>400078</td>\n",
       "      <td>1273021</td>\n",
       "    </tr>\n",
       "    <tr>\n",
       "      <th>120</th>\n",
       "      <td>Sweden</td>\n",
       "      <td>2019</td>\n",
       "      <td>223513</td>\n",
       "      <td>324760</td>\n",
       "      <td>363273</td>\n",
       "      <td>1131124</td>\n",
       "    </tr>\n",
       "    <tr>\n",
       "      <th>121</th>\n",
       "      <td>Sweden</td>\n",
       "      <td>2020</td>\n",
       "      <td>232358</td>\n",
       "      <td>332287</td>\n",
       "      <td>383257</td>\n",
       "      <td>1194857</td>\n",
       "    </tr>\n",
       "  </tbody>\n",
       "</table>\n",
       "<p>122 rows × 6 columns</p>\n",
       "</div>"
      ],
      "text/plain": [
       "        Area  Year  Barley  Meat Cattle  Meat Pig  Raw Milk\n",
       "0    Austria  2015  109982       975437    844993   1322196\n",
       "1    Austria  2016   97002       944660    854356   1256018\n",
       "2    Austria  2017  102480       991803    953570   1564446\n",
       "3    Austria  2018  111802      1069738    902580   1823111\n",
       "4    Austria  2019  114030       958769    994757   1566252\n",
       "..       ...   ...     ...          ...       ...       ...\n",
       "117   Sweden  2016  210560       361123    408312   1031884\n",
       "118   Sweden  2017  259179       365048    411678   1263871\n",
       "119   Sweden  2018  245885       351124    400078   1273021\n",
       "120   Sweden  2019  223513       324760    363273   1131124\n",
       "121   Sweden  2020  232358       332287    383257   1194857\n",
       "\n",
       "[122 rows x 6 columns]"
      ]
     },
     "execution_count": 12,
     "metadata": {},
     "output_type": "execute_result"
    }
   ],
   "source": [
    "df_prod"
   ]
  },
  {
   "cell_type": "markdown",
   "id": "f24bf978",
   "metadata": {},
   "source": [
    "# T-Test, one population"
   ]
  },
  {
   "cell_type": "markdown",
   "id": "5e3da8ae",
   "metadata": {},
   "source": [
    "We are analyzing population applied for \"Rural\" from ireland compared to other european union countries in average 4202k.\n"
   ]
  },
  {
   "cell_type": "code",
   "execution_count": 16,
   "id": "4e58b930",
   "metadata": {},
   "outputs": [
    {
     "data": {
      "text/plain": [
       "0      3669.727\n",
       "1      3667.377\n",
       "2      3660.707\n",
       "3      3649.748\n",
       "4      3636.627\n",
       "         ...   \n",
       "157    1293.399\n",
       "158    1273.943\n",
       "159    1254.718\n",
       "160    1235.720\n",
       "161    1216.924\n",
       "Name: Rural_K, Length: 162, dtype: float64"
      ]
     },
     "execution_count": 16,
     "metadata": {},
     "output_type": "execute_result"
    }
   ],
   "source": [
    "# Define the variable \n",
    "#x = Population of Rural (in thousand)\n",
    "X = df_pop[\"Rural_K\"]; X"
   ]
  },
  {
   "cell_type": "code",
   "execution_count": 17,
   "id": "3e543fdb",
   "metadata": {},
   "outputs": [
    {
     "data": {
      "text/plain": [
       "Ttest_1sampResult(statistic=4.811456666061871e-05, pvalue=0.9999616696950848)"
      ]
     },
     "execution_count": 17,
     "metadata": {},
     "output_type": "execute_result"
    }
   ],
   "source": [
    "#H0 : u = 4202\n",
    "#H1 : u =! 4202\n",
    "#stats.ttest_1samp(X,mu of H0)\n",
    "pystats.ttest_1samp(X,4202)"
   ]
  },
  {
   "cell_type": "code",
   "execution_count": 18,
   "id": "8254cf98",
   "metadata": {},
   "outputs": [
    {
     "data": {
      "text/plain": [
       "1.7114923604622113e-06"
      ]
     },
     "execution_count": 18,
     "metadata": {},
     "output_type": "execute_result"
    }
   ],
   "source": [
    "#H1 : u > 4202\n",
    "pystats.t.sf(4.811456666061871, 161)"
   ]
  },
  {
   "cell_type": "markdown",
   "id": "95ce4c30",
   "metadata": {},
   "source": [
    "We are analyzing population applied for \"Rural_K\" from ireland compared to Creatia in average 1785.48k."
   ]
  },
  {
   "cell_type": "code",
   "execution_count": 20,
   "id": "c05d7122",
   "metadata": {},
   "outputs": [
    {
     "name": "stdout",
     "output_type": "stream",
     "text": [
      "       Area  Year  Famale_K     Male_K   Rural_K   Urban_K\n",
      "78  Ireland  2015   2357.720  2308.039  1760.732  2939.375\n",
      "79  Ireland  2016   2381.941  2333.847  1761.090  2964.988\n",
      "80  Ireland  2017   2409.471  2362.383  1764.335  2997.322\n",
      "81  Ireland  2018   2440.194  2394.313  1769.220  3034.528\n",
      "82  Ireland  2019   2470.880  2425.139  1773.798  3073.341\n",
      "83  Ireland  2020   2495.802  2450.316  1776.656  3111.336\n"
     ]
    }
   ],
   "source": [
    "# Created new df to grouping 2 countries\n",
    "new_df_pop1 = df_pop[(df_pop.Area == \"Ireland\") | (df_pop.Area == \"Creatia\") ]\n",
    "print(new_df_pop1)"
   ]
  },
  {
   "cell_type": "code",
   "execution_count": 22,
   "id": "d4a80ceb",
   "metadata": {},
   "outputs": [
    {
     "data": {
      "text/plain": [
       "78    1760.732\n",
       "79    1761.090\n",
       "80    1764.335\n",
       "81    1769.220\n",
       "82    1773.798\n",
       "83    1776.656\n",
       "Name: Rural_K, dtype: float64"
      ]
     },
     "execution_count": 22,
     "metadata": {},
     "output_type": "execute_result"
    }
   ],
   "source": [
    "# Define the variable \n",
    "#x = Population of Rural (in thousand)\n",
    "X = new_df_pop1[\"Rural_K\"]; X"
   ]
  },
  {
   "cell_type": "code",
   "execution_count": 23,
   "id": "6b83c458",
   "metadata": {},
   "outputs": [
    {
     "data": {
      "text/plain": [
       "Ttest_1sampResult(statistic=-6.36429916703271, pvalue=0.0014158755903700081)"
      ]
     },
     "execution_count": 23,
     "metadata": {},
     "output_type": "execute_result"
    }
   ],
   "source": [
    "#H0 : u = 1785.48K\n",
    "#H1 : u =! 1785.48K\n",
    "#stats.ttest_1samp(X,mu of H0)\n",
    "pystats.ttest_1samp(X,1785)"
   ]
  },
  {
   "cell_type": "code",
   "execution_count": 24,
   "id": "110ad6fd",
   "metadata": {},
   "outputs": [
    {
     "data": {
      "text/plain": [
       "0.9999999948811659"
      ]
     },
     "execution_count": 24,
     "metadata": {},
     "output_type": "execute_result"
    }
   ],
   "source": [
    "#H1 : u > 1785.48\n",
    "pystats.t.sf(-6.36429916703271, 83)"
   ]
  },
  {
   "cell_type": "code",
   "execution_count": null,
   "id": "82faa91a",
   "metadata": {},
   "outputs": [],
   "source": []
  }
 ],
 "metadata": {
  "kernelspec": {
   "display_name": "Python 3 (ipykernel)",
   "language": "python",
   "name": "python3"
  },
  "language_info": {
   "codemirror_mode": {
    "name": "ipython",
    "version": 3
   },
   "file_extension": ".py",
   "mimetype": "text/x-python",
   "name": "python",
   "nbconvert_exporter": "python",
   "pygments_lexer": "ipython3",
   "version": "3.9.12"
  }
 },
 "nbformat": 4,
 "nbformat_minor": 5
}
